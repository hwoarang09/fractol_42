{
 "cells": [
  {
   "cell_type": "markdown",
   "id": "581bd107",
   "metadata": {},
   "source": [
    "# Fract-ol"
   ]
  },
  {
   "cell_type": "code",
   "execution_count": null,
   "id": "660dd04e",
   "metadata": {},
   "outputs": [],
   "source": [
    "import pandas as pd"
   ]
  },
  {
   "cell_type": "markdown",
   "id": "03a900d3",
   "metadata": {},
   "source": [
    "### Mandelbrot set"
   ]
  },
  {
   "cell_type": "markdown",
   "id": "2694106d",
   "metadata": {},
   "source": [
    "<img src=\"latex_mandelbrot.95af84d59784.png\" alt=\"Drawing\" style=\"width: 600px;\"/>\n",
    "\n",
    "Mandelbrot set은 위의 식에서 n을 무한대로 할 때 <br>\n",
    "발산하지 않는 복소수 c값들을 찾는 것이다.<br><br>\n",
    "\n",
    "위의 식을 recursive함수로 표현하면 다음과 같다"
   ]
  },
  {
   "cell_type": "code",
   "execution_count": null,
   "id": "844e923d",
   "metadata": {},
   "outputs": [],
   "source": [
    "def z(n, c):\n",
    "    if n == 0:\n",
    "        return 0\n",
    "    else:\n",
    "        return z(n - 1, c) ** 2 + c"
   ]
  },
  {
   "cell_type": "markdown",
   "id": "012c5b09",
   "metadata": {},
   "source": [
    "n은 반복횟수<br>\n",
    "c는 초기에 입력되는 고정값이다.<br><br>\n",
    "c=1을 넣어서 이 함수를 확인해보자.<br>\n",
    "(정확히는 $ c = 1 + 0 * {i } $)<br>\n",
    "(복소좌표로는 (1,0)이다)\n",
    " "
   ]
  },
  {
   "cell_type": "code",
   "execution_count": null,
   "id": "4d1b292d",
   "metadata": {},
   "outputs": [],
   "source": [
    "for n in range(10):\n",
    "    print(f\"z({n}) = {z(n, c=1)}\")"
   ]
  },
  {
   "cell_type": "markdown",
   "id": "75cca4b1",
   "metadata": {},
   "source": [
    "함수의 결과값이 급격하게 증가하는 것을 확인할 수 있다.<br>\n",
    "\n",
    "즉 c=1은 Mandelbrot set에 포함되지 않는다.<br><br>\n",
    "\n",
    "(lazy evaluation 적용하여 계산과정을 더 효율적으로 진행할 수 있다.<br>\n",
    "  maximum recursion limit에 도달하여 프로그램이 멈추는 위험을 방지할 수 있다.<br>\n",
    "<a href = 'https://medium.com/sjk5766/lazy-evaluation%EC%9D%84-%EC%95%8C%EC%95%84%EB%B3%B4%EC%9E%90-411651d5227b'> 관련링크</a>)<br><br>\n",
    "위의 recursive 함수를 iterative로 구현하면 다음과 같다."
   ]
  },
  {
   "cell_type": "code",
   "execution_count": null,
   "id": "ac7243c6",
   "metadata": {},
   "outputs": [],
   "source": [
    "def sequence(c):\n",
    "    z = 0\n",
    "    while True:\n",
    "        yield z\n",
    "        z = z ** 2 + c"
   ]
  },
  {
   "cell_type": "code",
   "execution_count": null,
   "id": "2717bdfb",
   "metadata": {},
   "outputs": [],
   "source": [
    "for n, z in enumerate(sequence(c=1)):\n",
    "    print(f\"z({n}) = {z}\")\n",
    "    if n >= 9:\n",
    "        break"
   ]
  },
  {
   "cell_type": "markdown",
   "id": "b6f79306",
   "metadata": {},
   "source": [
    "recursive 함수로 구현한 것과 결과값이 같은 걸 확인할 수 있다.<br>\n",
    "c=1을 넣을 경우, 발산하였지만,<br>\n",
    "c=0. c=-1을 넣으면 발산하지 않는다. <br><br>\n",
    "<b>발산하지 않는 상태</b>를 <b>수렴한다 </b> 혹은 <b>Stable</b>이라고 한다."
   ]
  },
  {
   "cell_type": "code",
   "execution_count": null,
   "id": "fcbf3a73",
   "metadata": {},
   "outputs": [],
   "source": [
    "for n, z in enumerate(sequence(c=0)):\n",
    "    print(f\"z({n}) = {z}\")\n",
    "    if n >= 9:\n",
    "        break"
   ]
  },
  {
   "cell_type": "code",
   "execution_count": null,
   "id": "3d8ccabc",
   "metadata": {},
   "outputs": [],
   "source": [
    "for n, z in enumerate(sequence(c=-1)):\n",
    "    print(f\"z({n}) = {z}\")\n",
    "    if n >= 9:\n",
    "        break"
   ]
  },
  {
   "cell_type": "markdown",
   "id": "d53cfa40",
   "metadata": {},
   "source": [
    "### 복소평면"
   ]
  },
  {
   "cell_type": "markdown",
   "id": "98bdcd46",
   "metadata": {},
   "source": [
    "복소평면은 그냥 화이트보드에 그려서 설명하기<br>"
   ]
  },
  {
   "cell_type": "markdown",
   "id": "4073cce1",
   "metadata": {},
   "source": [
    "### 깊게 다루지 않고 넘어가는 것들"
   ]
  },
  {
   "cell_type": "markdown",
   "id": "aaca55e0",
   "metadata": {},
   "source": [
    "컴퓨터에서 이 작업을 할 때 애매한 게 2가지 있다.<br>\n",
    "\n",
    "1. 발산하는지, 수렴하는지에 대한 기준은???<br>\n",
    "n에 대한 다항식(고등수학)이 아니라서 발산 여부 확인이 어려움.<br>\n",
    "->n번 반복했을 때 z의 절대값이 2미만일 경우로 정한다<br><br>\n",
    "\n",
    "2. 위에서 말한 n의 기준은??<br>\n",
    "컴퓨터에서 n을 무한대로 가져갈 수 없으니까, 임의의 숫자를 정해야 함.<br>\n",
    "-> 10, 20정도면 충분함<br><br>\n",
    "\n",
    "두 질문에 대해 왜??라고 깊게 파고들기 시작하면 과제의 범위를 벗어나는 것이라고 생각하고<br>\n",
    "검색해도 잘 안나와서 나는 재꼈음<br><br>\n",
    "\n",
    "\n",
    "\n"
   ]
  },
  {
   "cell_type": "markdown",
   "id": "88dc544c",
   "metadata": {},
   "source": [
    "## Low-Resolution Scatter Plot - matplotlib\n",
    "\n",
    "지금부터는 c에 여러 복소수를 넣어보고, 복소평면에 나타냈을 시 어떻게 표현되는지 코드로 구현해볼 것임<br>\n",
    "Mandelbrot Set을 시각화하는 가장 직관적인 방식은<br>\n",
    "복소평면에 scatter차트로 뿌려보는 것임<br><br>\n",
    "이 방식은 <b>실제 과제에서 구현하는 방식과는 약간 차이가 있는데</b><br> \n",
    "<b>실제 과제에서는 world coordinate와 pixel coordinate간의 전환</b>이 매우 중요한데<br>\n",
    "\n",
    "\n",
    "지금 표현하는 방식은 <b>복소좌표를 그대로 scatter chart에 뿌리는 방식</b>임.<br>\n",
    "뭔소린지 몰라도 일단 코드진행 ㄱㄱ\n"
   ]
  },
  {
   "cell_type": "code",
   "execution_count": null,
   "id": "b9dae15c",
   "metadata": {},
   "outputs": [],
   "source": [
    "import matplotlib.pyplot as plt\n",
    "import numpy as np\n",
    "\n",
    "np.warnings.filterwarnings(\"ignore\")"
   ]
  },
  {
   "cell_type": "markdown",
   "id": "7a496ace",
   "metadata": {},
   "source": [
    "### 쓰이는 함수 설명\n",
    "complex_matrix는 복소평면에 입력할 좌표들을 만드는 함수"
   ]
  },
  {
   "cell_type": "code",
   "execution_count": null,
   "id": "3449604c",
   "metadata": {},
   "outputs": [],
   "source": [
    "def complex_matrix(xmin, xmax, ymin, ymax, pixel_density):\n",
    "    re = np.linspace(xmin, xmax, int((xmax - xmin) * pixel_density))\n",
    "    im = np.linspace(ymin, ymax, int((ymax - ymin) * pixel_density))\n",
    "    return re[np.newaxis, :] + im[:, np.newaxis] * 1j\n",
    "\n",
    "\n"
   ]
  },
  {
   "cell_type": "markdown",
   "id": "031a2d7d",
   "metadata": {},
   "source": [
    "x축에 들어갈 좌표"
   ]
  },
  {
   "cell_type": "code",
   "execution_count": null,
   "id": "db060829",
   "metadata": {},
   "outputs": [],
   "source": [
    "xmin = -1\n",
    "xmax = 1\n",
    "ymin = -1\n",
    "ymax = 1\n",
    "pixel_density = 3\n",
    "\n",
    "re = np.linspace(xmin, xmax, int((xmax - xmin) * pixel_density))\n",
    "re"
   ]
  },
  {
   "cell_type": "markdown",
   "id": "e6a4dd69",
   "metadata": {},
   "source": [
    "y축에 들어갈 좌표"
   ]
  },
  {
   "cell_type": "code",
   "execution_count": null,
   "id": "86dbe0e8",
   "metadata": {},
   "outputs": [],
   "source": [
    "im = np.linspace(ymin, ymax, int((ymax - ymin) * pixel_density))\n",
    "im"
   ]
  },
  {
   "cell_type": "markdown",
   "id": "2c5ee125",
   "metadata": {},
   "source": [
    "x,y 두 축에 들어갈 좌표들 생성"
   ]
  },
  {
   "cell_type": "code",
   "execution_count": null,
   "id": "3ba49a0e",
   "metadata": {},
   "outputs": [],
   "source": [
    "cc = re[np.newaxis, :] + im[:, np.newaxis] * 1j\n",
    "cc"
   ]
  },
  {
   "cell_type": "markdown",
   "id": "d063fa9e",
   "metadata": {},
   "source": [
    "xmax - xmin이 3이고, pixel_density가 2이므로 x축으로는 6칸,<br>\n",
    "마찬가지로 y축으로도 6칸이므로<br>\n",
    "6 X 6 배열이 생성됨<br><br>\n",
    "\n",
    "위는 함수 내부 과정을 하나씩 풀어서 쓴거고<br>\n",
    "아래는 함수값으로 c를 뱉은 것"
   ]
  },
  {
   "cell_type": "code",
   "execution_count": null,
   "id": "56da1bdd",
   "metadata": {},
   "outputs": [],
   "source": [
    "c = complex_matrix(-1,2,-1,2,2)\n",
    "c"
   ]
  },
  {
   "cell_type": "markdown",
   "id": "6fa49b2e",
   "metadata": {},
   "source": [
    "is_stable, get_members에서 쓰인 개념들은 c에서는 아직 안 배운 거 같은데<br>python, numpy, pandas에서는 숨 쉬듯 당연하게 쓰임...<br>\n",
    "깊게 생각하지 말고 그냥 그런갑다 하고 넘어가면 됌"
   ]
  },
  {
   "cell_type": "code",
   "execution_count": null,
   "id": "c76d5757",
   "metadata": {},
   "outputs": [],
   "source": [
    "def is_stable(c, num_iterations):\n",
    "    z = 0\n",
    "    for _ in range(num_iterations):\n",
    "        z = z**2 + c\n",
    "    return abs(z) <= 2\n",
    "\n",
    "\n",
    "def get_members(c, num_iterations):\n",
    "    mask = is_stable(c, num_iterations)\n",
    "    return c[mask]"
   ]
  },
  {
   "cell_type": "markdown",
   "id": "3376ff79",
   "metadata": {},
   "source": [
    "위에서 만든 c라는 배열을 인자로 넣어서 is_stable함수를 실행해보면<br>\n",
    "리턴 조건 abs(z) <= 2에서 참거짓을 판별해서 배열의 각 요소마다 뱉어줌 <br>\n"
   ]
  },
  {
   "cell_type": "code",
   "execution_count": null,
   "id": "ac556d1b",
   "metadata": {},
   "outputs": [],
   "source": [
    "num_iterations = 10\n",
    "\n",
    "is_stable(c,num_iterations)"
   ]
  },
  {
   "cell_type": "markdown",
   "id": "d718fa1b",
   "metadata": {},
   "source": [
    "c의 값과 비교해보면<br>\n",
    " -0.4-0.4j<br>\n",
    " -0.4+0.2j<br>\n",
    " -1. +0.2j<br>\n",
    " 0.2-0.4j<br>\n",
    " 0.2+0.2j<br>\n",
    " \n",
    " 이렇게 5개가 True로 나옴"
   ]
  },
  {
   "cell_type": "code",
   "execution_count": null,
   "id": "82e1700d",
   "metadata": {},
   "outputs": [],
   "source": [
    "c"
   ]
  },
  {
   "cell_type": "markdown",
   "id": "759f9f09",
   "metadata": {},
   "source": [
    "get_members에서는 저 중에 true값만 가져 오는 것임"
   ]
  },
  {
   "cell_type": "code",
   "execution_count": null,
   "id": "e4eebd39",
   "metadata": {},
   "outputs": [],
   "source": [
    "mask = is_stable(c, num_iterations)\n",
    "c[mask]"
   ]
  },
  {
   "cell_type": "markdown",
   "id": "dc9d1c91",
   "metadata": {},
   "source": [
    "scatter plot으로 그려보기"
   ]
  },
  {
   "cell_type": "code",
   "execution_count": null,
   "id": "2cf57752",
   "metadata": {},
   "outputs": [],
   "source": [
    "if __name__ == \"__main__\":\n",
    "    c = complex_matrix(-2, 0.5, -1.5, 1.5, pixel_density=21)\n",
    "    print(f\"shape of c is {c.shape}\")\n",
    "    members = get_members(c, num_iterations=16)\n",
    "    \n",
    "    ####c에서 만든 모든 점을 복소평면에 찍은 경우\n",
    "    #plt.scatter(c.real, c.imag, color=\"grey\", marker=\",\", s=1)\n",
    "    ####c에서 get_members로 true값 만족하는 것만 찍은 경우\n",
    "    plt.scatter(members.real, members.imag, color=\"black\", marker=\",\", s=1)\n",
    "    \n",
    "    plt.gca().set_aspect(\"equal\")\n",
    "    plt.axis(\"off\")\n",
    "    plt.tight_layout()\n",
    "    plt.show()"
   ]
  },
  {
   "cell_type": "markdown",
   "id": "150a5df3",
   "metadata": {},
   "source": [
    "## Low-Resolution Scatter Plot - Plotly"
   ]
  },
  {
   "cell_type": "markdown",
   "id": "1e9c1696",
   "metadata": {},
   "source": [
    "Plotly-Dash로 웹브라우져에서 pixel_density, num_iterations값을 바꿔가면서 실시간으로 프랙탈을 확인할 수 있음"
   ]
  },
  {
   "cell_type": "code",
   "execution_count": null,
   "id": "be12a522",
   "metadata": {
    "scrolled": true
   },
   "outputs": [],
   "source": [
    "import dash\n",
    "from dash import dcc\n",
    "import dash_html_components as html\n",
    "from dash.dependencies import Input, Output,State\n",
    "import plotly.graph_objs as go\n",
    "import pandas as pd\n",
    "np.warnings.filterwarnings(\"ignore\")\n",
    "\n",
    "app = dash.Dash()\n",
    "\n",
    "app.layout = html.Div([\n",
    "    html.Div(      \n",
    "             children=[\n",
    "        html.H3('pixel_density : ',\n",
    "                style={'textAlign': 'center','color': 'black', 'display':'inline-block'}),\n",
    "        dcc.Input(id='num', type='number', debounce=True, min=2, step=1, value = 100,\n",
    "                  style={'textAlign': 'center','color': 'black', 'display':'inline-block'}),\n",
    "        html.H3('num_iterations : ',\n",
    "                style={'textAlign': 'center','color': 'black', 'display':'inline-block'}),\n",
    "        dcc.Input(id='num2', type='number', debounce=True, min=2, step=1, value = 16,\n",
    "                  style={'textAlign': 'center','color': 'black', 'display':'inline-block'}),\n",
    "        html.Button(id='submit-button-state', n_clicks=0, children='Submit')]),\n",
    "    dcc.Graph(id='graph')\n",
    "])\n",
    "\n",
    "@app.callback(Output('graph', 'figure'),\n",
    "              Input('submit-button-state', 'n_clicks'),\n",
    "              State('num', 'value'),\n",
    "              State('num2', 'value'))\n",
    "def update_figure(n_clicks,num,num2 ):\n",
    "    \n",
    "    print(\"num is \", num, \" type is \", type(num))\n",
    "    c = complex_matrix(-2, 0.5, -1.5, 1.5, pixel_density=num)\n",
    "    #c = complex_matrix(-31, 2.5, -2.5, 2.5, pixel_density=21)\n",
    "    members = get_members(c, num_iterations=num2)\n",
    "    data = [go.Scattergl(\n",
    "        x = members.real, \n",
    "        y = members.imag,\n",
    "        mode = 'markers',\n",
    "        marker=dict(size=1,\n",
    "                   color='rgb(51,204,153)',\n",
    "                   symbol='diamond-open',\n",
    "                   line = {'width' : 2})\n",
    "    ,hovertemplate='<br>복소수 c:%{x:.3f} + %{y:.3f}*i<br><extra></extra>')]\n",
    "    layout = go.Layout(title='Hello First Plot',\n",
    "                      xaxis={'title' : 'X축(실수부)'},\n",
    "                      yaxis={'title' : 'Y축(허수부)'},\n",
    "                       width=800, height=800,\n",
    "                      )\n",
    "\n",
    "    fig = go.Figure(data=data,layout=layout)\n",
    "    return fig\n",
    "\n",
    "if __name__ == '__main__':\n",
    "    app.run_server()"
   ]
  },
  {
   "cell_type": "markdown",
   "id": "e6b73bea",
   "metadata": {},
   "source": [
    "위에서 그린 그림은 World coordinate를 <b>scatter chart</b>로 그린 것임.<br><br>\n",
    "실제 과제에서는 pixel coordinate를 World coordinate로 바꿔서 그려야 함.<br>\n",
    "\n"
   ]
  },
  {
   "cell_type": "markdown",
   "id": "20fd7f08",
   "metadata": {},
   "source": [
    "## High-Resolution Black-and-White Visualization with Matplotlib\n",
    "\n",
    "위에서 그린 그림의 좌표계를 확인해보면,<br>\n",
    "실수부, 허수부를 그대로 옮긴 것임<br><br>\n",
    "\n",
    "인자를 살펴보면,<br>\n",
    "plt.scatter(members.real, members.imag, color=\"black\", marker=\",\", s=1)<br>\n",
    "x축 y축이 각각 members.real, members.imag임."
   ]
  },
  {
   "cell_type": "code",
   "execution_count": null,
   "id": "e177c18c",
   "metadata": {},
   "outputs": [],
   "source": [
    "\n",
    "c = complex_matrix(-2, 0.5, -1.5, 1.5, pixel_density=21)\n",
    "print(f\"shape of c is {c.shape}\")\n",
    "members = get_members(c, num_iterations=16)\n",
    "\n",
    "####c에서 만든 모든 점을 복소평면에 찍은 경우\n",
    "#plt.scatter(c.real, c.imag, color=\"grey\", marker=\",\", s=1)\n",
    "####c에서 get_members로 true값 만족하는 것만 찍은 경우\n",
    "plt.scatter(members.real, members.imag, color=\"black\", marker=\",\", s=1)\n",
    "\n",
    "plt.gca().set_aspect(\"equal\")\n",
    "#plt.axis(\"off\")\n",
    "plt.tight_layout()\n",
    "plt.show()"
   ]
  },
  {
   "cell_type": "markdown",
   "id": "4a791683",
   "metadata": {},
   "source": [
    "반면 실제 과제에서 그릴 방식은 pixel coordinate를 적용함<br>\n",
    "즉 그림 사이즈가 512 x 512이면,\n",
    "512 x 512개의 픽셀을 각각 좌표로 보고 그림을 그리는 방식임<br><br>\n",
    "\n",
    "이번에는 is_stable(c, num_iterations=20)가 인자로 들어가고,<br>\n",
    "여기에는 실수, 허수에 대한 데이터가 없고.<br>\n",
    "512 x 512에 대한 참거짓 데이터만 있음.\n",
    "\n"
   ]
  },
  {
   "cell_type": "code",
   "execution_count": null,
   "id": "a5ef711d",
   "metadata": {},
   "outputs": [],
   "source": [
    "c = complex_matrix(-2, 0.5, -1.5, 1.5, pixel_density=512)\n",
    "plt.imshow(is_stable(c, num_iterations=20), cmap=\"binary\")\n",
    "plt.gca().set_aspect(\"equal\")\n",
    "#plt.axis(\"off\")\n",
    "plt.tight_layout()\n",
    "plt.show()"
   ]
  },
  {
   "cell_type": "markdown",
   "id": "18b7d9a1",
   "metadata": {},
   "source": [
    "이 밑으로 2개는 timeit으로 시간 재려고 하는 코드임.<br>\n",
    "실행 안해도 됨"
   ]
  },
  {
   "cell_type": "code",
   "execution_count": null,
   "id": "639f7ac1",
   "metadata": {},
   "outputs": [],
   "source": [
    "%%timeit\n",
    "c = complex_matrix(-2, 0.5, -1.5, 1.5, pixel_density=512)\n",
    "plt.imshow(is_stable(c, num_iterations=20), cmap=\"binary\")\n",
    "plt.gca().set_aspect(\"equal\")\n",
    "plt.axis(\"off\")\n",
    "plt.tight_layout()\n",
    "plt.show()"
   ]
  },
  {
   "cell_type": "code",
   "execution_count": null,
   "id": "4d7fa7af",
   "metadata": {},
   "outputs": [],
   "source": [
    "%%timeit\n",
    "if __name__ == \"__main__\":\n",
    "    c = complex_matrix(-2, 0.5, -1.5, 1.5, pixel_density=512)\n",
    "    members = get_members(c, num_iterations=16)\n",
    "    \n",
    "\n",
    "    plt.scatter(members.real, members.imag, color=\"black\", marker=\",\", s=1)\n",
    "    \n",
    "    plt.gca().set_aspect(\"equal\")\n",
    "    plt.axis(\"off\")\n",
    "    plt.tight_layout()\n",
    "    plt.show()"
   ]
  },
  {
   "cell_type": "markdown",
   "id": "5d571b7d",
   "metadata": {},
   "source": [
    "## High-Resolution Black-and-White Visualization with Plotly"
   ]
  },
  {
   "cell_type": "code",
   "execution_count": null,
   "id": "efcbaec9",
   "metadata": {},
   "outputs": [],
   "source": [
    "import plotly.express as px\n",
    "import numpy as np\n",
    "\n",
    "c = complex_matrix(-2, 0.5, -1.5, 1.5, pixel_density=521)\n",
    "\n",
    "fig = px.imshow(is_stable(c, num_iterations=20))\n",
    "\n",
    "fig.show()"
   ]
  },
  {
   "cell_type": "markdown",
   "id": "a4eba815",
   "metadata": {},
   "source": [
    "## Drawing the Mandelbrot Set With Pillow\n",
    "차트 그리는 프로그램에서 image를 표현하는 게 imshow방식인 거 같고<br>\n",
    "image를 전문으로 다루는 라이브러리는 PILLOW"
   ]
  },
  {
   "cell_type": "code",
   "execution_count": null,
   "id": "69dcf68d",
   "metadata": {},
   "outputs": [],
   "source": [
    "###PIL에 기본적으로 포함된 Mandelbrot set\n",
    "\n",
    "from PIL import Image\n",
    "Image.effect_mandelbrot((512, 512), (-3, -2.5, 2, 2.5), 150).show()"
   ]
  },
  {
   "cell_type": "code",
   "execution_count": null,
   "id": "69bd7a0a",
   "metadata": {},
   "outputs": [],
   "source": [
    "c = complex_matrix(-2, 0.5, -1.5, 1.5, pixel_density=512)\n",
    "###검정배경 흰색프랙탈\n",
    "##image = Image.fromarray(is_stable(c, num_iterations=20))\n",
    "\n",
    "###흰색배경 검정 프랙탈\n",
    "image = Image.fromarray(~is_stable(c, num_iterations=20))\n",
    "image.show()"
   ]
  },
  {
   "cell_type": "markdown",
   "id": "15c1f38e",
   "metadata": {},
   "source": [
    "## Finding Convergent Elements of the Set"
   ]
  },
  {
   "cell_type": "code",
   "execution_count": null,
   "id": "0273cc08",
   "metadata": {},
   "outputs": [],
   "source": [
    "def is_stable2(c, max_iterations):\n",
    "    z = 0\n",
    "    for _ in range(max_iterations):\n",
    "        z = z ** 2 + c\n",
    "        if abs(z) > 2:\n",
    "            return True\n",
    "    return False"
   ]
  },
  {
   "cell_type": "code",
   "execution_count": null,
   "id": "4d2ae488",
   "metadata": {},
   "outputs": [],
   "source": [
    "1/0.0078"
   ]
  },
  {
   "cell_type": "code",
   "execution_count": null,
   "id": "53ef5ad0",
   "metadata": {},
   "outputs": [],
   "source": [
    "width, height = 512, 512\n",
    "scale = 0.0075\n",
    "BLACK_AND_WHITE = \"1\"\n",
    "\n",
    "from PIL import Image\n",
    "image = Image.new(mode=BLACK_AND_WHITE, size=(width, height))\n",
    "for y in range(height):\n",
    "    for x in range(width):\n",
    "        ##왼쪽 상단을 0,0으로 잡음\n",
    "        c = scale * complex(x - width / 2, height / 2 - y)\n",
    "        ###putpixel은 (좌표, int값)형식인데, is_stable2의 리턴값이 참거짓, 즉 1과 0이므로 작동하는것\n",
    "        image.putpixel((x, y), is_stable2(c, 20))\n",
    "\n",
    "image.show()"
   ]
  },
  {
   "cell_type": "code",
   "execution_count": null,
   "id": "759a060b",
   "metadata": {},
   "outputs": [],
   "source": [
    "def escape_count(c, max_iterations):\n",
    "    z = 0\n",
    "    for num in range(max_iterations):\n",
    "        z = z ** 2 + c\n",
    "        if abs(z) > 2:\n",
    "            return num\n",
    "    return max_iterations\n",
    "\n",
    "def stability(c,max_iterations):\n",
    "        return float(escape_count(c,max_iterations)) / float(max_iterations)"
   ]
  },
  {
   "cell_type": "code",
   "execution_count": null,
   "id": "5114b0e4",
   "metadata": {},
   "outputs": [],
   "source": [
    "width, height = 512, 512\n",
    "scale = 0.0079\n",
    "GRAYSCALE = \"L\"\n",
    "max_iterations = 20\n",
    "\n",
    "from PIL import Image\n",
    "image = Image.new(mode=GRAYSCALE, size=(width, height))\n",
    "for y in range(height):\n",
    "    for x in range(width):\n",
    "        c = scale * complex(x - width / 2, height / 2 - y)\n",
    "        instability = 1 - stability(c,20)\n",
    "        image.putpixel((x, y), int(instability * 255))\n",
    "\n",
    "image.show()"
   ]
  },
  {
   "cell_type": "markdown",
   "id": "9de95b50",
   "metadata": {},
   "source": [
    "## Smoothing Out the Banding Artifacts"
   ]
  },
  {
   "cell_type": "code",
   "execution_count": null,
   "id": "a8e6ee17",
   "metadata": {},
   "outputs": [],
   "source": [
    "from math import log\n",
    "\n",
    "def escape_count(c, max_iterations, escape_radius):\n",
    "    z = 0\n",
    "    for num in range(max_iterations):\n",
    "        z = z ** 2 + c\n",
    "        if abs(z) > escape_radius:\n",
    "            return num + 1 - log(log(abs(z))) / log(2)\n",
    "    return max_iterations\n",
    "\n",
    "def stability(c,max_iterations, escape_radius):\n",
    "    value = float(escape_count(c,max_iterations, escape_radius)) / float(max_iterations)\n",
    "    return  max(0.0, min(value, 1.0))"
   ]
  },
  {
   "cell_type": "code",
   "execution_count": null,
   "id": "ce03fd15",
   "metadata": {},
   "outputs": [],
   "source": [
    "width, height = 512, 512\n",
    "scale = 0.000035\n",
    "GRAYSCALE = \"L\"\n",
    "max_iterations = 96\n",
    "escape_radius = 1000\n",
    "move_x = -0.7435 / scale\n",
    "move_y = 0.1314 / scale\n",
    "\n",
    "from PIL import Image\n",
    "image = Image.new(mode=GRAYSCALE, size=(width, height))\n",
    "for y in range(height):\n",
    "    for x in range(width):\n",
    "        c = scale * complex((x +move_x) - width / 2, height / 2 - (y + move_y) )\n",
    "        instability = 1 - stability(c,max_iterations, escape_radius)\n",
    "        image.putpixel((x, y), int(instability * 255))\n",
    "\n",
    "image.show()"
   ]
  },
  {
   "cell_type": "code",
   "execution_count": null,
   "id": "e9012a38",
   "metadata": {},
   "outputs": [],
   "source": [
    "import plotly.express as px\n",
    "import numpy as np\n",
    "import time\n",
    "import multiprocessing\n",
    "from worker import count, f\n",
    "        \n",
    "num_list = ['p1','p2','p3','p4']"
   ]
  },
  {
   "cell_type": "code",
   "execution_count": null,
   "id": "2940e050",
   "metadata": {
    "scrolled": true
   },
   "outputs": [],
   "source": [
    "start_time = time.time()\n",
    "\n",
    "\n",
    "        \n",
    "num_list = ['p1','p2','p3','p4']\n",
    "for num in num_list:\n",
    "    count(num)\n",
    "    \n",
    "print(f'----{time.time()-start_time} seconds -----')"
   ]
  },
  {
   "cell_type": "code",
   "execution_count": null,
   "id": "7aac1bce",
   "metadata": {},
   "outputs": [],
   "source": [
    "!pip install multiprocess"
   ]
  },
  {
   "cell_type": "code",
   "execution_count": null,
   "id": "f061c5d0",
   "metadata": {},
   "outputs": [],
   "source": [
    "import multiprocess"
   ]
  },
  {
   "cell_type": "code",
   "execution_count": null,
   "id": "7a2803ef",
   "metadata": {},
   "outputs": [],
   "source": []
  },
  {
   "cell_type": "code",
   "execution_count": null,
   "id": "56cf5364",
   "metadata": {},
   "outputs": [],
   "source": [
    "from multiprocessing import Pool\n",
    "import time\n",
    "import os\n",
    "import math\n",
    "from worker import count, f\n",
    "\n",
    "if __name__ == '__main__':\n",
    "    p = Pool(3)\n",
    "    startTime = int(time.time())\n",
    "    print(p.map(f, range(0,10)))  \n",
    "    endTime = int(time.time())\n",
    "    print(\"총 작업 시간\", (endTime - startTime))"
   ]
  },
  {
   "cell_type": "code",
   "execution_count": null,
   "id": "51777694",
   "metadata": {},
   "outputs": [],
   "source": [
    "import numpy as np\n",
    "from PIL import Image\n",
    "\n",
    "img = Image.open('memi.jfif')\n",
    "img.show()\n",
    "\n",
    "x = np.array(img)\n",
    "print(x)\n",
    "print(x.shape)\n",
    "\n",
    "x_2 = np.asarray(img)\n",
    "print(x_2)\n",
    "print(x_2.shape)"
   ]
  },
  {
   "cell_type": "code",
   "execution_count": null,
   "id": "def039b2",
   "metadata": {},
   "outputs": [],
   "source": [
    "img_2 = Image.fromarray(x) # NumPy array to PIL image\n",
    "img_2.show()"
   ]
  },
  {
   "cell_type": "code",
   "execution_count": null,
   "id": "422f1b6a",
   "metadata": {},
   "outputs": [],
   "source": [
    "img_3 = Image.fromarray(x_2) # NumPy array to PIL image\n",
    "img_3.show()"
   ]
  },
  {
   "cell_type": "code",
   "execution_count": 1,
   "id": "e12efa33",
   "metadata": {},
   "outputs": [],
   "source": [
    "from math import log\n",
    "import plotly.express as px\n",
    "import numpy as np\n",
    "import time\n",
    "import multiprocessing\n",
    "from PIL import Image\n",
    "def escape_count(c, max_iterations, escape_radius):\n",
    "    z = 0\n",
    "    for num in range(max_iterations):\n",
    "        z = z ** 2 + c\n",
    "        if abs(z) > escape_radius:\n",
    "            return num + 1 - log(log(abs(z))) / log(2)\n",
    "    return max_iterations\n",
    "\n",
    "def stability(c,max_iterations, escape_radius):\n",
    "    value = float(escape_count(c,max_iterations, escape_radius)) / float(max_iterations)\n",
    "    return  max(0.0, min(value, 1.0))"
   ]
  },
  {
   "cell_type": "code",
   "execution_count": 2,
   "id": "f763a1d3",
   "metadata": {},
   "outputs": [],
   "source": [
    "width, height = 512, 512\n",
    "\n",
    "scale_default = 0.0078\n",
    "scale_input = 155\n",
    "scale = scale_default/scale_input\n",
    "GRAYSCALE = \"L\"\n",
    "max_iterations = 256\n",
    "escape_radius = 10\n",
    "move_x = -0.7435 / scale\n",
    "move_y = 0.1314 / scale"
   ]
  },
  {
   "cell_type": "code",
   "execution_count": null,
   "id": "feda2a80",
   "metadata": {},
   "outputs": [],
   "source": [
    "def image_func(image, start_height,end_height, width, move_x, move_y, max_iterations, escape_radius):\n",
    "    for y in range(start_height,end_height):\n",
    "        for x in range(width):\n",
    "            c = scale * complex((x +move_x) - width / 2, height / 2 - (y + move_y) )\n",
    "            instability = 1 - stability(c,max_iterations, escape_radius)\n",
    "            image.putpixel((x, y-start_height), int(instability * 255))   "
   ]
  },
  {
   "cell_type": "code",
   "execution_count": 5,
   "id": "ba4a1eea",
   "metadata": {},
   "outputs": [],
   "source": [
    "image = Image.new(mode=GRAYSCALE, size=(width, height))\n"
   ]
  },
  {
   "cell_type": "code",
   "execution_count": 4,
   "id": "0fce4989",
   "metadata": {},
   "outputs": [],
   "source": [
    "image1 = Image.new(mode=GRAYSCALE, size=(width, int(height/4)))\n",
    "image2 = Image.new(mode=GRAYSCALE, size=(width, int(height/4)))\n",
    "image3 = Image.new(mode=GRAYSCALE, size=(width, int(height/4)))\n",
    "image4 = Image.new(mode=GRAYSCALE, size=(width, int(height/4)))\n",
    "\n",
    "arg_list = [\n",
    "    [image1, 0, int(height*(1/4)), width, move_x, move_y, max_iterations, escape_radius],\n",
    "    [image2, int(height*(1/4)),int(height*(2/4)), width, move_x, move_y, max_iterations, escape_radius],\n",
    "    [image3, int(height*(2/4)),int(height*(3/4)), width, move_x, move_y, max_iterations, escape_radius],\n",
    "    [image4, int(height*(3/4)),int(height*(4/4)), width, move_x, move_y, max_iterations, escape_radius]\n",
    "]"
   ]
  },
  {
   "cell_type": "code",
   "execution_count": null,
   "id": "e8454fb9",
   "metadata": {},
   "outputs": [],
   "source": [
    "from worker3 import count, f"
   ]
  },
  {
   "cell_type": "code",
   "execution_count": null,
   "id": "ffc6357d",
   "metadata": {},
   "outputs": [],
   "source": [
    "image_func(image1, 0, int(height*(1/4)), width, move_x, move_y, max_iterations, escape_radius)\n",
    "image_func(image2, int(height*(1/4)),int(height*(2/4)), width, move_x, move_y, max_iterations, escape_radius)\n",
    "image_func(image3, int(height*(2/4)),int(height*(3/4)), width, move_x, move_y, max_iterations, escape_radius)\n",
    "image_func(image4, int(height*(3/4)),int(height*(4/4)), width, move_x, move_y, max_iterations, escape_radius)"
   ]
  },
  {
   "cell_type": "code",
   "execution_count": null,
   "id": "ce729f4b",
   "metadata": {},
   "outputs": [],
   "source": [
    "start_time = time.time()\n",
    "image_func(image, 0, height, width, move_x, move_y, max_iterations, escape_radius)\n",
    "print(f'take {time.time()-start_time} seconds')"
   ]
  },
  {
   "cell_type": "code",
   "execution_count": 3,
   "id": "b771c785",
   "metadata": {},
   "outputs": [],
   "source": [
    "from image_func import image_func"
   ]
  },
  {
   "cell_type": "code",
   "execution_count": null,
   "id": "c1e8227f",
   "metadata": {},
   "outputs": [],
   "source": [
    "start_time = time.time()\n",
    "image_func(image1, 0, int(height*(1/4)), width, move_x, move_y, max_iterations, escape_radius)\n",
    "image_func(image2, int(height*(1/4)),int(height*(2/4)), width, move_x, move_y, max_iterations, escape_radius)\n",
    "image_func(image3, int(height*(2/4)),int(height*(3/4)), width, move_x, move_y, max_iterations, escape_radius)\n",
    "image_func(image4, int(height*(3/4)),int(height*(4/4)), width, move_x, move_y, max_iterations, escape_radius)\n",
    "print(f'take {time.time()-start_time} seconds')"
   ]
  },
  {
   "cell_type": "code",
   "execution_count": null,
   "id": "e826c038",
   "metadata": {},
   "outputs": [],
   "source": [
    "def image_func(arg_list):\n",
    "\n",
    "    image  =arg_list[0] \n",
    "    start_height=arg_list[1] \n",
    "    end_height=arg_list[2] \n",
    "    width=arg_list[3]\n",
    "    move_x=arg_list[4]\n",
    "    move_y=arg_list[5]\n",
    "    max_iterations=arg_list[6]\n",
    "    escape_radius=arg_list[7]\n",
    "    for y in range(start_height,end_height):\n",
    "        for x in range(width):\n",
    "            c = scale * complex((x +move_x) - width / 2, height / 2 - (y + move_y) )\n",
    "            instability = 1 - stability(c,max_iterations, escape_radius)\n",
    "            image.putpixel((x, y-start_height), int(instability * 255))   "
   ]
  },
  {
   "cell_type": "code",
   "execution_count": null,
   "id": "871305f3",
   "metadata": {},
   "outputs": [],
   "source": [
    "pool.starmap(printname, zip(arg1, arg2))"
   ]
  },
  {
   "cell_type": "code",
   "execution_count": null,
   "id": "4b9e23bf",
   "metadata": {},
   "outputs": [],
   "source": [
    "start = time.time()\n",
    "\n",
    "width, height = 512, 512\n",
    "\n",
    "scale_default = 0.0078\n",
    "scale_input = 155\n",
    "scale = scale_default/scale_input\n",
    "GRAYSCALE = \"L\"\n",
    "max_iterations = 256\n",
    "escape_radius = 10\n",
    "move_x = -0.7435 / scale\n",
    "move_y = 0.1314 / scale\n",
    "\n",
    "from PIL import Image\n",
    "image = Image.new(mode=GRAYSCALE, size=(width, height))\n",
    "\n",
    "for y in range(height):\n",
    "    for x in range(width):\n",
    "        c = scale * complex((x +move_x) - width / 2, height / 2 - (y + move_y) )\n",
    "        instability = 1 - stability(c,max_iterations, escape_radius)\n",
    "        image.putpixel((x, y), int(instability * 255))\n",
    "\n",
    "'''\n",
    "for x in range(height*width):\n",
    "    \n",
    "    c = scale * complex((x%512 +move_x) - width / 2, height / 2 - (int(x/512) + move_y) )\n",
    "    instability = 1 - stability(c,max_iterations, escape_radius)\n",
    "    \n",
    "    image.putpixel((x%512, int(x/512)), int(instability * 255))\n",
    "'''        \n",
    "fig = px.imshow(image)\n",
    "\n",
    "fig.show()\n",
    "print(f'take time : {time.time()-start}')"
   ]
  },
  {
   "cell_type": "markdown",
   "id": "f1ae43bf",
   "metadata": {},
   "source": [
    "# Julia"
   ]
  },
  {
   "cell_type": "code",
   "execution_count": null,
   "id": "04dbb246",
   "metadata": {},
   "outputs": [],
   "source": [
    "\n",
    "def escape_count2(z,c, max_iterations, escape_radius):\n",
    "\n",
    "    for num in range(max_iterations):\n",
    "        z = z ** 2 + c\n",
    "        if abs(z) > escape_radius:\n",
    "            return num + 1 - log(log(abs(z))) / log(2)\n",
    "    return max_iterations\n",
    "\n",
    "def stability2(z,c,max_iterations, escape_radius):\n",
    "    value = float(escape_count2(z,c,max_iterations, escape_radius)) / float(max_iterations)\n",
    "    return  max(0.0, min(value, 1.0))"
   ]
  },
  {
   "cell_type": "code",
   "execution_count": null,
   "id": "4f787d1a",
   "metadata": {},
   "outputs": [],
   "source": []
  },
  {
   "cell_type": "code",
   "execution_count": null,
   "id": "32741f72",
   "metadata": {},
   "outputs": [],
   "source": [
    "import plotly.express as px\n",
    "import numpy as np\n",
    "\n",
    "width, height = 512, 512\n",
    "\n",
    "scale_default = 0.0078\n",
    "scale = scale_default\n",
    "GRAYSCALE = \"L\"\n",
    "max_iterations = 256\n",
    "escape_radius = 50\n",
    "\n",
    "\n",
    "from PIL import Image\n",
    "image = Image.new(mode=\"F\", size=(width, height))\n",
    "\n",
    "c = complex(0.2939, -0.0144)\n",
    "#c = complex(1.2299,0.0690)\n",
    "for y in range(height):\n",
    "    for x in range(width):\n",
    "        z = scale * complex((x) - width / 2, height / 2 - (y) )\n",
    "        \n",
    "        instability = 1 - stability2(z,c,max_iterations, escape_radius)\n",
    "        image.putpixel((x, y), int(instability * 255))\n",
    "\n",
    "fig = px.imshow(image,color_continuous_scale=\"Rainbow\",range_color=[0,255])\n",
    "#fig = px.imshow(image)\n",
    "fig.show()"
   ]
  },
  {
   "cell_type": "markdown",
   "id": "a690351c",
   "metadata": {},
   "source": [
    "# Dash-julia set"
   ]
  },
  {
   "cell_type": "code",
   "execution_count": null,
   "id": "1aae17f1",
   "metadata": {},
   "outputs": [],
   "source": [
    "import dash\n",
    "from dash import dcc\n",
    "import dash_html_components as html\n",
    "from dash.dependencies import Input, Output,State\n",
    "import plotly.graph_objs as go\n",
    "import pandas as pd\n",
    "import plotly.express as px\n",
    "import numpy as np\n",
    "import json\n",
    "width, height = 512, 512\n",
    "\n",
    "\n",
    "scale_default = 0.0078\n",
    "scale = scale_default\n",
    "GRAYSCALE = \"L\"\n",
    "max_iterations = 26\n",
    "escape_radius = 10\n",
    "move_x = -0.7435 / scale\n",
    "move_y = 0.1314 / scale\n",
    "\n",
    "from PIL import Image\n",
    "\n",
    "np.warnings.filterwarnings(\"ignore\")\n",
    "\n",
    "app = dash.Dash()\n",
    "\n",
    "app.layout = html.Div([\n",
    "    \n",
    "    html.Div([\n",
    "    \n",
    "    \n",
    "    html.Div([\n",
    "            html.Div(children=[dcc.Graph(id='graph')]),\n",
    "        \n",
    "            html.Div([\n",
    "                html.Div([\n",
    "                          html.H3('Escape_radius',\n",
    "                            style={'margin' : '0','color': 'black','display':'inline-block', 'float' : 'left'}),\n",
    "                          dcc.Input(id='escape_radius', type='number', debounce=True, min=2, step=1, value = 10,\n",
    "                            style={'width' : '50px', 'margin-left' : '10px', 'margin-right' : '30px','display' : 'inline-block', 'float' : 'left'})\n",
    "                         ],style = {'display' : 'inline-block','float':'left'}),\n",
    "                html.Div([\n",
    "                          html.H3('Max_iterations ',\n",
    "                            style={'margin' : '0','color': 'black','display':'inline-block', 'float' : 'left'}),\n",
    "                          dcc.Input(id='max_iterations', type='number', debounce=True, min=2, step=1, value = 26,\n",
    "                            style={'width' : '50px', 'margin-left' : '10px','display' : 'inline-block', 'float' : 'left'})\n",
    "                         ],style = {'display' : 'inline-block','float':'left'})\n",
    "            ], style = {'display' : 'flex', 'float':'none'}),\n",
    "        \n",
    "            html.Div([\n",
    "                html.Div([\n",
    "                          html.H3('x center ',\n",
    "                            style={'margin' : '0','color': 'black','display':'inline-block', 'float' : 'left'}),\n",
    "                          dcc.Input(id='move_x', type='text', value = -0.7435,\n",
    "                            style={'width' : '50px', 'margin-left' : '60px', 'margin-right' : '30px','display' : 'inline-block', 'float' : 'left'})         \n",
    "                         ],style = {'display' : 'inline-block','float':'left'}),           \n",
    "                html.Div([\n",
    "                          html.H3('y center ',\n",
    "                           style={'margin' : '0','color': 'black','display':'inline-block', 'float' : 'left'}),\n",
    "                          dcc.Input(id='move_y', type='text', value =0.1314,\n",
    "                            style={'width' : '50px', 'margin-left' : '70px','display' : 'inline-block', 'float' : 'left'})            \n",
    "                         ],style = {'display' : 'inline-block','float':'left'})       \n",
    "            ], style = {'display' : 'flex', 'float':'none'}),\n",
    "            html.Div([\n",
    "                html.Div([\n",
    "                          html.H3('scale ',\n",
    "                            style={'margin' : '0','color': 'black','display':'inline-block', 'float' : 'left'}),\n",
    "                          dcc.Input(id='scale', type='number', value =1,\n",
    "                            style={'width' : '50px', 'margin-left' : '87px', 'margin-right' : '30px','display' : 'inline-block', 'float' : 'left'})                \n",
    "                         ],style = {'display' : 'inline-block','float':'left'}),         \n",
    "                html.Pre(id = 'hover-data',style = {'display' : 'inline-block','float':'left'})\n",
    "            ], style = {'display' : 'flex', 'float': 'none'}),\n",
    "        \n",
    "            html.Div([\n",
    "            html.Button(id='submit-button-state', n_clicks=0, children='Submit',\n",
    "                    style={'textAlign': 'center','color': 'black','display':'inline-block', 'float' : 'left'})\n",
    "            ], style = {'display' : 'flex', 'float':'none'})\n",
    "            ],\n",
    "             \n",
    "        style={'textAlign': 'center','color': 'black', 'display':'inline-block', 'width' : '50%', 'float' : 'left'}),\n",
    "\n",
    "        \n",
    "    html.Div([\n",
    "            html.Div(children=[dcc.Graph(id='graph2')]),\n",
    "        \n",
    "            html.Div([\n",
    "                html.Div([\n",
    "                          html.H3('Escape_radius',\n",
    "                            style={'margin' : '0','color': 'black','display':'inline-block', 'float' : 'left'}),\n",
    "                          dcc.Input(id='escape_radius2', type='number', debounce=True, min=2, step=1, value = 10,\n",
    "                            style={'width' : '50px', 'margin-left' : '10px', 'margin-right' : '30px','display' : 'inline-block', 'float' : 'left'})\n",
    "                         ],style = {'display' : 'inline-block','float':'left'}),\n",
    "                html.Div([\n",
    "                          html.H3('Max_iterations ',\n",
    "                            style={'margin' : '0','color': 'black','display':'inline-block', 'float' : 'left'}),\n",
    "                          dcc.Input(id='max_iterations2', type='number', debounce=True, min=2, step=1, value = 26,\n",
    "                            style={'width' : '50px', 'margin-left' : '10px','display' : 'inline-block', 'float' : 'left'})\n",
    "                         ],style = {'display' : 'inline-block','float':'left'})\n",
    "            ], style = {'display' : 'flex', 'float':'none'}),\n",
    "        \n",
    "            html.Div([\n",
    "                html.Div([\n",
    "                          html.H3('x center ',\n",
    "                            style={'margin' : '0','color': 'black','display':'inline-block', 'float' : 'left'}),\n",
    "                          dcc.Input(id='move_x2', type='text', value = 0,\n",
    "                            style={'width' : '50px', 'margin-left' : '60px', 'margin-right' : '30px','display' : 'inline-block', 'float' : 'left'})         \n",
    "                         ],style = {'display' : 'inline-block','float':'left'}),           \n",
    "                html.Div([\n",
    "                          html.H3('y center ',\n",
    "                           style={'margin' : '0','color': 'black','display':'inline-block', 'float' : 'left'}),\n",
    "                          dcc.Input(id='move_y2', type='text', value =0,\n",
    "                            style={'width' : '50px', 'margin-left' : '70px','display' : 'inline-block', 'float' : 'left'})            \n",
    "                         ],style = {'display' : 'inline-block','float':'left'})       \n",
    "            ], style = {'display' : 'flex', 'float':'none'}),\n",
    "            html.Div([\n",
    "                html.Div([\n",
    "                          html.H3('scale ',\n",
    "                            style={'margin' : '0','color': 'black','display':'inline-block', 'float' : 'left'}),\n",
    "                          dcc.Input(id='scale2', type='number', value =1,\n",
    "                            style={'width' : '50px', 'margin-left' : '87px', 'margin-right' : '30px','display' : 'inline-block', 'float' : 'left'})                \n",
    "                         ],style = {'display' : 'inline-block','float':'left'})    \n",
    "                \n",
    "            ], style = {'display' : 'flex', 'float': 'none'})\n",
    "        \n",
    "            \n",
    "            ],\n",
    "             \n",
    "        style={'textAlign': 'center','color': 'black', 'display':'inline-block', 'width' : '50%', 'float' : 'left'}),\n",
    "\n",
    "], style={'textAlign': 'center','color': 'black', 'display':'inline-block', 'width' : '70%'}),\n",
    "    html.Div([\n",
    "            html.Div([\n",
    "                html.H6('julia set 아래 메뉴들은 미구현입니다',\n",
    "                    style={'color': 'black'}),\n",
    "                html.H3('-사용법- ',\n",
    "                    style={'color': 'black'}),                \n",
    "                html.H5('1. mandelbrot의 scale을 10정도로 입력해보고, submit을 눌러보세요 ',\n",
    "                    style={'color': 'black'}),\n",
    "                html.H5('2. 경계에서 명확하게 프랙탈이 보이지 않으면, Max_iterations을 50정도 입력해보고 submit을 눌러보세요 ',\n",
    "                    style={'color': 'black'}),\n",
    "                html.H5('3. x center, y center를 변경하면서 그림을 옮길 수 있어요',\n",
    "                    style={'color': 'black'}),        \n",
    "                html.H5('4. mandelbrot fractal 그래프를 클릭하면, c값이 정해집니다.',\n",
    "                    style={'color': 'black'}),    \n",
    "                html.H5('5. 동시에 우측에서는 c값을 기준으로 julia set이 그려져요. ',\n",
    "                    style={'color': 'black'}),\n",
    "                html.H3('-그래프메뉴-',\n",
    "                    style={'color': 'black'}),                \n",
    "                html.H5('1. 그래프에 마우스를 가져다 대면 상단에 여러 메뉴들이 보입니다. 확대, 축소, 이동, 원상복귀 등등',\n",
    "                    style={'color': 'black'}),\n",
    "                html.H5('2. 그래프를 드래그해도 확대가 되지만, 올바른 c값 및 julia set은 생성되지 않습니다.',\n",
    "                    style={'color': 'black'}),                \n",
    "            ],  style={'textAlign': 'left','color': 'black', 'display':'inline-block', 'width' : '70%'})\n",
    "    ])\n",
    "]\n",
    "    ,style={'textAlign': 'center'})\n",
    "@app.callback(Output('hover-data', 'children'),\n",
    "              Input('graph', 'hoverData'),\n",
    "              State('escape_radius', 'value'),\n",
    "              State('max_iterations', 'value'),\n",
    "              State('move_x', 'value'),\n",
    "              State('move_y', 'value'),\n",
    "              State('scale', 'value'))\n",
    "\n",
    "def dis_play_hover_data(hover_data,escape_radius, max_iterations,move_x,move_y,scale):\n",
    "    if hover_data == None:\n",
    "        return f'복소수 c : {0}+{0}i '\n",
    "    scale_default = 0.0078\n",
    "    scale = scale_default / scale    \n",
    "    raw = json.dumps(hover_data, indent=2)\n",
    "    x = hover_data[\"points\"][0][\"x\"]\n",
    "    y = hover_data[\"points\"][0][\"y\"]\n",
    "    move_x = float(move_x) / scale\n",
    "    move_y = float(move_y) / scale    \n",
    "    c = scale * complex((x +move_x) - width / 2, height / 2 - (y + move_y) )\n",
    "    \n",
    "    print(type(hover_data),hover_data, hover_data[\"points\"])\n",
    "    return f'복소수 c : {c.real:{\".4f\"}}+{c.imag:{\".4f\"}}i '\n",
    "\n",
    "########################################figure hover click###############\n",
    "\n",
    "@app.callback(Output('graph2', 'figure'),\n",
    "              Input('graph', 'clickData'),\n",
    "              State('escape_radius', 'value'),\n",
    "              State('max_iterations', 'value'),\n",
    "              State('move_x', 'value'),\n",
    "              State('move_y', 'value'),\n",
    "              State('scale', 'value'),\n",
    "              State('escape_radius2', 'value'),\n",
    "              State('max_iterations2', 'value'),\n",
    "              State('move_x2', 'value'),\n",
    "              State('move_y2', 'value'),\n",
    "              State('scale2', 'value'))\n",
    "def update_figure(clickData,escape_radius,max_iterations,move_x,move_y,scale,\n",
    "                 escape_radius2,max_iterations2,move_x2,move_y2,scale2):\n",
    "\n",
    "    \n",
    "\n",
    "    \n",
    "    if clickData is None:\n",
    "        scale_default = 0.0078\n",
    "        scale = scale_default / scale\n",
    "        GRAYSCALE = \"L\"\n",
    "        cx = 0\n",
    "        cy = 0\n",
    "        move_x = float(move_x) / scale\n",
    "        move_y = float(move_y) / scale\n",
    "\n",
    "        image = Image.new(mode=GRAYSCALE, size=(width, height))\n",
    "        c = complex(0,0)\n",
    "        \n",
    "        for y in range(height):\n",
    "            for x in range(width):\n",
    "                z = scale * complex((x) - width / 2, height / 2 - (y) )\n",
    "                instability = 1 - stability2(z,c,max_iterations, escape_radius)\n",
    "                image.putpixel((x, y), int(instability * 255))        \n",
    "\n",
    "\n",
    "        fig = px.imshow(image,color_continuous_scale=\"Rainbow\",range_color=[0,255],\n",
    "                       title=\"Julia Sets Fractal\")      \n",
    "        fig.update_traces(hovertemplate=\"x: %{x} <br> y: %{y}<extra></extra>\")\n",
    "        fig.update(layout_coloraxis_showscale=False)\n",
    "        fig.update_xaxes(visible=False)\n",
    "        fig.update_yaxes(visible=False)    \n",
    "        fig.update_layout(margin_b=50, margin_l = 0, margin_r=0, margin_t = 50)\n",
    "        return fig\n",
    "  \n",
    "    else:\n",
    " \n",
    "        scale_default = 0.0078\n",
    "        scale = scale_default / scale\n",
    "        scale2 = scale_default / scale2\n",
    "        GRAYSCALE = \"L\"\n",
    "        cx = clickData[\"points\"][0][\"x\"]\n",
    "        cy = clickData[\"points\"][0][\"y\"]\n",
    "        move_x_c = float(move_x) / scale\n",
    "        move_y_c = float(move_y) / scale\n",
    "        c = scale * complex((cx+move_x_c) - width / 2, height / 2 - (cy+move_y_c) )\n",
    "        image = Image.new(mode=GRAYSCALE, size=(width, height))\n",
    "\n",
    "        \n",
    "        for y in range(height):\n",
    "            for x in range(width):\n",
    "                z = scale2 * complex((x) - width / 2, height / 2 - (y) )\n",
    "                instability = 1 - stability2(z,c,max_iterations, escape_radius)\n",
    "                image.putpixel((x, y), int(instability * 255))        \n",
    "\n",
    "        fig = px.imshow(image,color_continuous_scale=\"Rainbow\",range_color=[0,255],\n",
    "                       title=\"Julia Sets Fractal\")    \n",
    "        fig.update_traces(hovertemplate=\"x: %{x} <br> y: %{y}<extra></extra>\")\n",
    "        fig.update(layout_coloraxis_showscale=False)\n",
    "        fig.update_xaxes(visible=False)\n",
    "        fig.update_yaxes(visible=False)\n",
    "        fig.update_layout(margin_b=50, margin_l = 0, margin_r=0, margin_t = 50)\n",
    "        return fig\n",
    "\n",
    "\n",
    "\n",
    "##########################################################################################\n",
    "@app.callback(Output('graph', 'figure'),\n",
    "              Input('submit-button-state', 'n_clicks'),\n",
    "              State('escape_radius', 'value'),\n",
    "              State('max_iterations', 'value'),\n",
    "              State('move_x', 'value'),\n",
    "              State('move_y', 'value'),\n",
    "              State('scale', 'value'))\n",
    "def update_figure(n_clicks,escape_radius,max_iterations,move_x,move_y,scale):\n",
    "    print(\"typeof movex \", type(move_x))\n",
    "    scale_default = 0.0078\n",
    "    scale = scale_default / scale\n",
    "    GRAYSCALE = \"L\"\n",
    "\n",
    "    move_x = float(move_x) / scale\n",
    "    move_y = float(move_y) / scale\n",
    "    \n",
    "    image = Image.new(mode=GRAYSCALE, size=(width, height))\n",
    "    for y in range(height):\n",
    "        for x in range(width):\n",
    "            c = scale * complex((x +move_x) - width / 2, height / 2 - (y + move_y) )\n",
    "            instability = 1 - stability(c,max_iterations, escape_radius)\n",
    "            image.putpixel((x, y), int(instability * 255))\n",
    "    fig = px.imshow(image,color_continuous_scale=\"RdGy\",range_color=[0,255],\n",
    "                   title=\"Mandelbrot Sets Fractal\")    \n",
    "      \n",
    "    ##fig.update_traces(hovertemplate=\"x: %{x / scale} <br> y: %{float(y)}<extra></extra>\")\n",
    "    fig.update_traces(hovertemplate=\"x: %{x} <br> y: %{y}<extra></extra>\")\n",
    "    fig.update(layout_coloraxis_showscale=False)\n",
    "    fig.update_xaxes(visible=False)\n",
    "    fig.update_yaxes(visible=False)    \n",
    "    fig.update_layout(margin_b=50, margin_l = 0, margin_r=0, margin_t = 50)\n",
    "    return fig\n",
    "\n",
    "\n",
    "if __name__ == '__main__':\n",
    "    app.run_server()"
   ]
  },
  {
   "cell_type": "code",
   "execution_count": null,
   "id": "ded27696",
   "metadata": {},
   "outputs": [],
   "source": [
    "\n",
    "def escape_count2(z,c, max_iterations, escape_radius):\n",
    "\n",
    "    for num in range(max_iterations):\n",
    "        z = z ** 2 + c\n",
    "        if abs(z) > escape_radius:\n",
    "            #return num + 1 - log(log(abs(z))) / log(2)\n",
    "            return True\n",
    "    return False\n",
    "\n",
    "def stability2(z,c,max_iterations, escape_radius):\n",
    "    value = float(escape_count2(z,c,max_iterations, escape_radius)) / float(max_iterations)\n",
    "    #return  max(0.0, min(value, 1.0))\n",
    "    return (escape_count2(z,c,max_iterations, escape_radius))"
   ]
  },
  {
   "cell_type": "code",
   "execution_count": null,
   "id": "8f12112d",
   "metadata": {},
   "outputs": [],
   "source": [
    "dic_test = {'data' : 'hi'}\n",
    "dic_test, type(dic_test)"
   ]
  },
  {
   "cell_type": "code",
   "execution_count": null,
   "id": "3b0e60fc",
   "metadata": {},
   "outputs": [],
   "source": [
    "json.dumps(dic_test),type(json.dumps(dic_test))"
   ]
  },
  {
   "cell_type": "code",
   "execution_count": null,
   "id": "fe523212",
   "metadata": {},
   "outputs": [],
   "source": []
  }
 ],
 "metadata": {
  "kernelspec": {
   "display_name": "Python 3 (ipykernel)",
   "language": "python",
   "name": "python3"
  },
  "language_info": {
   "codemirror_mode": {
    "name": "ipython",
    "version": 3
   },
   "file_extension": ".py",
   "mimetype": "text/x-python",
   "name": "python",
   "nbconvert_exporter": "python",
   "pygments_lexer": "ipython3",
   "version": "3.9.7"
  }
 },
 "nbformat": 4,
 "nbformat_minor": 5
}
