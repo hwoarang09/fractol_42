{
 "cells": [
  {
   "cell_type": "code",
   "execution_count": 3,
   "id": "635f171e",
   "metadata": {},
   "outputs": [],
   "source": [
    "from math import log\n",
    "\n",
    "def escape_count(c, max_iterations, escape_radius):\n",
    "    z = 0\n",
    "    for num in range(max_iterations):\n",
    "        z = z ** 2 + c\n",
    "        if abs(z) > escape_radius:\n",
    "            return num + 1 - log(log(abs(z))) / log(2)\n",
    "    return max_iterations\n",
    "\n",
    "def stability(c,max_iterations, escape_radius):\n",
    "    value = float(escape_count(c,max_iterations, escape_radius)) / float(max_iterations)\n",
    "    return  max(0.0, min(value, 1.0))\n",
    "def escape_count2(z,c, max_iterations, escape_radius):\n",
    "\n",
    "    for num in range(max_iterations):\n",
    "        z = z ** 2 + c\n",
    "        if abs(z) > escape_radius:\n",
    "            return num + 1 - log(log(abs(z))) / log(2)\n",
    "    return max_iterations\n",
    "\n",
    "def stability2(z,c,max_iterations, escape_radius):\n",
    "    value = float(escape_count2(z,c,max_iterations, escape_radius)) / float(max_iterations)\n",
    "    return  max(0.0, min(value, 1.0))"
   ]
  },
  {
   "cell_type": "code",
   "execution_count": null,
   "id": "2ebea4cf",
   "metadata": {},
   "outputs": [
    {
     "name": "stdout",
     "output_type": "stream",
     "text": [
      "Dash is running on http://127.0.0.1:8050/\n",
      "\n",
      "Dash is running on http://127.0.0.1:8050/\n",
      "\n",
      "Dash is running on http://127.0.0.1:8050/\n",
      "\n",
      "Dash is running on http://127.0.0.1:8050/\n",
      "\n",
      " * Serving Flask app \"__main__\" (lazy loading)\n",
      " * Environment: production\n",
      "\u001b[31m   WARNING: This is a development server. Do not use it in a production deployment.\u001b[0m\n",
      "\u001b[2m   Use a production WSGI server instead.\u001b[0m\n",
      " * Debug mode: off\n"
     ]
    },
    {
     "name": "stderr",
     "output_type": "stream",
     "text": [
      " * Running on http://127.0.0.1:8050/ (Press CTRL+C to quit)\n",
      "127.0.0.1 - - [26/May/2022 16:48:04] \"GET / HTTP/1.1\" 200 -\n",
      "127.0.0.1 - - [26/May/2022 16:48:04] \"GET /_dash-layout HTTP/1.1\" 200 -\n",
      "127.0.0.1 - - [26/May/2022 16:48:04] \"GET /_dash-dependencies HTTP/1.1\" 200 -\n",
      "127.0.0.1 - - [26/May/2022 16:48:04] \"GET /_favicon.ico?v=2.3.1 HTTP/1.1\" 200 -\n",
      "127.0.0.1 - - [26/May/2022 16:48:04] \"GET /_dash-component-suites/dash/dcc/async-graph.js HTTP/1.1\" 200 -\n",
      "127.0.0.1 - - [26/May/2022 16:48:04] \"GET /_dash-component-suites/dash/dcc/async-plotlyjs.js HTTP/1.1\" 200 -\n"
     ]
    },
    {
     "name": "stdout",
     "output_type": "stream",
     "text": [
      "typeof movex  <class 'float'>\n"
     ]
    },
    {
     "name": "stderr",
     "output_type": "stream",
     "text": [
      "127.0.0.1 - - [26/May/2022 16:48:04] \"POST /_dash-update-component HTTP/1.1\" 200 -\n",
      "127.0.0.1 - - [26/May/2022 16:48:05] \"POST /_dash-update-component HTTP/1.1\" 200 -\n",
      "127.0.0.1 - - [26/May/2022 16:48:05] \"POST /_dash-update-component HTTP/1.1\" 200 -\n"
     ]
    },
    {
     "name": "stdout",
     "output_type": "stream",
     "text": [
      "----1.5554559230804443 seconds -----\n"
     ]
    },
    {
     "name": "stderr",
     "output_type": "stream",
     "text": [
      "127.0.0.1 - - [26/May/2022 16:48:07] \"POST /_dash-update-component HTTP/1.1\" 200 -\n",
      "127.0.0.1 - - [26/May/2022 16:48:07] \"POST /_dash-update-component HTTP/1.1\" 200 -\n",
      "127.0.0.1 - - [26/May/2022 16:48:07] \"POST /_dash-update-component HTTP/1.1\" 200 -\n"
     ]
    },
    {
     "name": "stdout",
     "output_type": "stream",
     "text": [
      "<class 'dict'> {'points': [{'curveNumber': 0, 'x': 337, 'y': 17, 'z': 237, 'bbox': {'x0': 535.87, 'x1': 536.55, 'y0': 69.62, 'y1': 70.3}}]} [{'curveNumber': 0, 'x': 337, 'y': 17, 'z': 237, 'bbox': {'x0': 535.87, 'x1': 536.55, 'y0': 69.62, 'y1': 70.3}}]\n",
      "<class 'dict'> {'points': [{'curveNumber': 0, 'x': 342, 'y': 160, 'z': 0, 'bbox': {'x0': 539.29, 'x1': 539.97, 'y0': 167.38, 'y1': 168.06}}]} [{'curveNumber': 0, 'x': 342, 'y': 160, 'z': 0, 'bbox': {'x0': 539.29, 'x1': 539.97, 'y0': 167.38, 'y1': 168.06}}]\n",
      "<class 'dict'> {'points': [{'curveNumber': 0, 'x': 353, 'y': 235, 'z': 0, 'bbox': {'x0': 546.81, 'x1': 547.49, 'y0': 218.64, 'y1': 219.33}}]} [{'curveNumber': 0, 'x': 353, 'y': 235, 'z': 0, 'bbox': {'x0': 546.81, 'x1': 547.49, 'y0': 218.64, 'y1': 219.33}}]\n"
     ]
    },
    {
     "name": "stderr",
     "output_type": "stream",
     "text": [
      "127.0.0.1 - - [26/May/2022 16:48:07] \"POST /_dash-update-component HTTP/1.1\" 200 -\n",
      "127.0.0.1 - - [26/May/2022 16:48:07] \"POST /_dash-update-component HTTP/1.1\" 200 -\n",
      "127.0.0.1 - - [26/May/2022 16:48:07] \"POST /_dash-update-component HTTP/1.1\" 200 -\n"
     ]
    },
    {
     "name": "stdout",
     "output_type": "stream",
     "text": [
      "<class 'dict'> {'points': [{'curveNumber': 0, 'x': 357, 'y': 242, 'z': 0, 'bbox': {'x0': 549.54, 'x1': 550.23, 'y0': 223.43, 'y1': 224.11}}]} [{'curveNumber': 0, 'x': 357, 'y': 242, 'z': 0, 'bbox': {'x0': 549.54, 'x1': 550.23, 'y0': 223.43, 'y1': 224.11}}]\n",
      "<class 'dict'> {'points': [{'curveNumber': 0, 'x': 372, 'y': 260, 'z': 0, 'bbox': {'x0': 559.8, 'x1': 560.48, 'y0': 235.73, 'y1': 236.42}}]} [{'curveNumber': 0, 'x': 372, 'y': 260, 'z': 0, 'bbox': {'x0': 559.8, 'x1': 560.48, 'y0': 235.73, 'y1': 236.42}}]\n",
      "<class 'dict'> {'points': [{'curveNumber': 0, 'x': 382, 'y': 263, 'z': 0, 'bbox': {'x0': 566.63, 'x1': 567.3199999999999, 'y0': 237.79, 'y1': 238.47}}]} [{'curveNumber': 0, 'x': 382, 'y': 263, 'z': 0, 'bbox': {'x0': 566.63, 'x1': 567.3199999999999, 'y0': 237.79, 'y1': 238.47}}]\n"
     ]
    },
    {
     "name": "stderr",
     "output_type": "stream",
     "text": [
      "127.0.0.1 - - [26/May/2022 16:48:07] \"POST /_dash-update-component HTTP/1.1\" 200 -\n",
      "127.0.0.1 - - [26/May/2022 16:48:07] \"POST /_dash-update-component HTTP/1.1\" 200 -\n",
      "127.0.0.1 - - [26/May/2022 16:48:07] \"POST /_dash-update-component HTTP/1.1\" 200 -\n",
      "127.0.0.1 - - [26/May/2022 16:48:07] \"POST /_dash-update-component HTTP/1.1\" 200 -\n"
     ]
    },
    {
     "name": "stdout",
     "output_type": "stream",
     "text": [
      "<class 'dict'> {'points': [{'curveNumber': 0, 'x': 385, 'y': 267, 'z': 0, 'bbox': {'x0': 568.6800000000001, 'x1': 569.37, 'y0': 240.52, 'y1': 241.2}}]} [{'curveNumber': 0, 'x': 385, 'y': 267, 'z': 0, 'bbox': {'x0': 568.6800000000001, 'x1': 569.37, 'y0': 240.52, 'y1': 241.2}}]\n",
      "<class 'dict'> {'points': [{'curveNumber': 0, 'x': 383, 'y': 285, 'z': 0, 'bbox': {'x0': 567.3199999999999, 'x1': 568, 'y0': 252.82, 'y1': 253.51}}]} [{'curveNumber': 0, 'x': 383, 'y': 285, 'z': 0, 'bbox': {'x0': 567.3199999999999, 'x1': 568, 'y0': 252.82, 'y1': 253.51}}]\n",
      "<class 'dict'> {'points': [{'curveNumber': 0, 'x': 383, 'y': 289, 'z': 0, 'bbox': {'x0': 567.3199999999999, 'x1': 568, 'y0': 255.56, 'y1': 256.24}}]} [{'curveNumber': 0, 'x': 383, 'y': 289, 'z': 0, 'bbox': {'x0': 567.3199999999999, 'x1': 568, 'y0': 255.56, 'y1': 256.24}}]\n",
      "<class 'dict'> {'points': [{'curveNumber': 0, 'x': 379, 'y': 289, 'z': 0, 'bbox': {'x0': 564.5799999999999, 'x1': 565.27, 'y0': 255.56, 'y1': 256.24}}]} [{'curveNumber': 0, 'x': 379, 'y': 289, 'z': 0, 'bbox': {'x0': 564.5799999999999, 'x1': 565.27, 'y0': 255.56, 'y1': 256.24}}]\n"
     ]
    },
    {
     "name": "stderr",
     "output_type": "stream",
     "text": [
      "127.0.0.1 - - [26/May/2022 16:48:07] \"POST /_dash-update-component HTTP/1.1\" 200 -\n"
     ]
    },
    {
     "name": "stdout",
     "output_type": "stream",
     "text": [
      "<class 'dict'> {'points': [{'curveNumber': 0, 'x': 378, 'y': 289, 'z': 0, 'bbox': {'x0': 563.9, 'x1': 564.5799999999999, 'y0': 255.56, 'y1': 256.24}}]} [{'curveNumber': 0, 'x': 378, 'y': 289, 'z': 0, 'bbox': {'x0': 563.9, 'x1': 564.5799999999999, 'y0': 255.56, 'y1': 256.24}}]\n"
     ]
    },
    {
     "name": "stderr",
     "output_type": "stream",
     "text": [
      "127.0.0.1 - - [26/May/2022 16:48:08] \"POST /_dash-update-component HTTP/1.1\" 200 -\n",
      "127.0.0.1 - - [26/May/2022 16:48:08] \"POST /_dash-update-component HTTP/1.1\" 200 -\n",
      "127.0.0.1 - - [26/May/2022 16:48:08] \"POST /_dash-update-component HTTP/1.1\" 200 -\n"
     ]
    },
    {
     "name": "stdout",
     "output_type": "stream",
     "text": [
      "<class 'dict'> {'points': [{'curveNumber': 0, 'x': 376, 'y': 289, 'z': 0, 'bbox': {'x0': 562.53, 'x1': 563.21, 'y0': 255.56, 'y1': 256.24}}]} [{'curveNumber': 0, 'x': 376, 'y': 289, 'z': 0, 'bbox': {'x0': 562.53, 'x1': 563.21, 'y0': 255.56, 'y1': 256.24}}]\n",
      "<class 'dict'> {'points': [{'curveNumber': 0, 'x': 370, 'y': 288, 'z': 0, 'bbox': {'x0': 558.4300000000001, 'x1': 559.11, 'y0': 254.88, 'y1': 255.56}}]} [{'curveNumber': 0, 'x': 370, 'y': 288, 'z': 0, 'bbox': {'x0': 558.4300000000001, 'x1': 559.11, 'y0': 254.88, 'y1': 255.56}}]\n",
      "<class 'dict'> {'points': [{'curveNumber': 0, 'x': 302, 'y': 241, 'z': 0, 'bbox': {'x0': 511.95, 'x1': 512.63, 'y0': 222.75, 'y1': 223.43}}]} [{'curveNumber': 0, 'x': 302, 'y': 241, 'z': 0, 'bbox': {'x0': 511.95, 'x1': 512.63, 'y0': 222.75, 'y1': 223.43}}]\n",
      "<class 'dict'> {'points': [{'curveNumber': 0, 'x': 126, 'y': 38, 'z': 240, 'bbox': {'x0': 391.63, 'x1': 392.32, 'y0': 83.98, 'y1': 84.66}}]} [{'curveNumber': 0, 'x': 126, 'y': 38, 'z': 240, 'bbox': {'x0': 391.63, 'x1': 392.32, 'y0': 83.98, 'y1': 84.66}}]\n"
     ]
    },
    {
     "name": "stderr",
     "output_type": "stream",
     "text": [
      "127.0.0.1 - - [26/May/2022 16:48:08] \"POST /_dash-update-component HTTP/1.1\" 200 -\n",
      "127.0.0.1 - - [26/May/2022 16:48:09] \"POST /_dash-update-component HTTP/1.1\" 200 -\n",
      "127.0.0.1 - - [26/May/2022 16:48:19] \"POST /_dash-update-component HTTP/1.1\" 200 -\n",
      "127.0.0.1 - - [26/May/2022 16:48:19] \"POST /_dash-update-component HTTP/1.1\" 200 -\n",
      "127.0.0.1 - - [26/May/2022 16:48:19] \"POST /_dash-update-component HTTP/1.1\" 200 -\n"
     ]
    },
    {
     "name": "stdout",
     "output_type": "stream",
     "text": [
      "<class 'dict'> {'points': [{'curveNumber': 0, 'x': 293, 'y': 13, 'z': 237, 'bbox': {'x0': 505.78999999999996, 'x1': 506.47999999999996, 'y0': 66.89, 'y1': 67.57}}]} [{'curveNumber': 0, 'x': 293, 'y': 13, 'z': 237, 'bbox': {'x0': 505.78999999999996, 'x1': 506.47999999999996, 'y0': 66.89, 'y1': 67.57}}]\n",
      "<class 'dict'> {'points': [{'curveNumber': 0, 'x': 247, 'y': 291, 'z': 185, 'bbox': {'x0': 474.34999999999997, 'x1': 475.03, 'y0': 256.93, 'y1': 257.61}}]} [{'curveNumber': 0, 'x': 247, 'y': 291, 'z': 185, 'bbox': {'x0': 474.34999999999997, 'x1': 475.03, 'y0': 256.93, 'y1': 257.61}}]\n",
      "<class 'dict'> {'points': [{'curveNumber': 0, 'x': 138, 'y': 506, 'z': 243, 'bbox': {'x0': 399.84, 'x1': 400.52, 'y0': 403.9, 'y1': 404.58}}]} [{'curveNumber': 0, 'x': 138, 'y': 506, 'z': 243, 'bbox': {'x0': 399.84, 'x1': 400.52, 'y0': 403.9, 'y1': 404.58}}]\n",
      "typeof movex  <class 'float'>\n"
     ]
    },
    {
     "name": "stderr",
     "output_type": "stream",
     "text": [
      "127.0.0.1 - - [26/May/2022 16:48:27] \"POST /_dash-update-component HTTP/1.1\" 200 -\n",
      "127.0.0.1 - - [26/May/2022 16:48:27] \"POST /_dash-update-component HTTP/1.1\" 200 -\n",
      "127.0.0.1 - - [26/May/2022 16:48:27] \"POST /_dash-update-component HTTP/1.1\" 200 -\n"
     ]
    },
    {
     "name": "stdout",
     "output_type": "stream",
     "text": [
      "<class 'dict'> {'points': [{'curveNumber': 0, 'x': 9, 'y': 478, 'z': 245, 'bbox': {'x0': 311.65, 'x1': 312.34, 'y0': 384.76, 'y1': 385.44}}]} [{'curveNumber': 0, 'x': 9, 'y': 478, 'z': 245, 'bbox': {'x0': 311.65, 'x1': 312.34, 'y0': 384.76, 'y1': 385.44}}]\n",
      "<class 'dict'> {'points': [{'curveNumber': 0, 'x': 32, 'y': 302, 'z': 239, 'bbox': {'x0': 327.38, 'x1': 328.06, 'y0': 264.45, 'y1': 265.13}}]} [{'curveNumber': 0, 'x': 32, 'y': 302, 'z': 239, 'bbox': {'x0': 327.38, 'x1': 328.06, 'y0': 264.45, 'y1': 265.13}}]\n",
      "<class 'dict'> {'points': [{'curveNumber': 0, 'x': 25, 'y': 280, 'z': 239, 'bbox': {'x0': 322.59, 'x1': 323.27, 'y0': 249.41, 'y1': 250.09}}]} [{'curveNumber': 0, 'x': 25, 'y': 280, 'z': 239, 'bbox': {'x0': 322.59, 'x1': 323.27, 'y0': 249.41, 'y1': 250.09}}]\n"
     ]
    },
    {
     "name": "stderr",
     "output_type": "stream",
     "text": [
      "127.0.0.1 - - [26/May/2022 16:48:30] \"POST /_dash-update-component HTTP/1.1\" 200 -\n"
     ]
    },
    {
     "name": "stdout",
     "output_type": "stream",
     "text": [
      "----3.319004535675049 seconds -----\n"
     ]
    },
    {
     "name": "stderr",
     "output_type": "stream",
     "text": [
      "127.0.0.1 - - [26/May/2022 16:48:38] \"POST /_dash-update-component HTTP/1.1\" 200 -\n",
      "127.0.0.1 - - [26/May/2022 16:48:38] \"POST /_dash-update-component HTTP/1.1\" 200 -\n",
      "127.0.0.1 - - [26/May/2022 16:48:38] \"POST /_dash-update-component HTTP/1.1\" 200 -\n"
     ]
    },
    {
     "name": "stdout",
     "output_type": "stream",
     "text": [
      "<class 'dict'> {'points': [{'curveNumber': 0, 'x': 206, 'y': 19, 'z': 77, 'bbox': {'x0': 446.32, 'x1': 447, 'y0': 70.99000000000001, 'y1': 71.67}}]} [{'curveNumber': 0, 'x': 206, 'y': 19, 'z': 77, 'bbox': {'x0': 446.32, 'x1': 447, 'y0': 70.99000000000001, 'y1': 71.67}}]\n",
      "<class 'dict'> {'points': [{'curveNumber': 0, 'x': 104, 'y': 169, 'z': 225, 'bbox': {'x0': 376.59, 'x1': 377.28, 'y0': 173.53, 'y1': 174.20999999999998}}]} [{'curveNumber': 0, 'x': 104, 'y': 169, 'z': 225, 'bbox': {'x0': 376.59, 'x1': 377.28, 'y0': 173.53, 'y1': 174.20999999999998}}]\n",
      "<class 'dict'> {'points': [{'curveNumber': 0, 'x': 57, 'y': 272, 'z': 227, 'bbox': {'x0': 344.46, 'x1': 345.15, 'y0': 243.94, 'y1': 244.62}}]} [{'curveNumber': 0, 'x': 57, 'y': 272, 'z': 227, 'bbox': {'x0': 344.46, 'x1': 345.15, 'y0': 243.94, 'y1': 244.62}}]\n"
     ]
    },
    {
     "name": "stderr",
     "output_type": "stream",
     "text": [
      "127.0.0.1 - - [26/May/2022 16:48:38] \"POST /_dash-update-component HTTP/1.1\" 200 -\n",
      "127.0.0.1 - - [26/May/2022 16:48:38] \"POST /_dash-update-component HTTP/1.1\" 200 -\n",
      "127.0.0.1 - - [26/May/2022 16:48:38] \"POST /_dash-update-component HTTP/1.1\" 200 -\n"
     ]
    },
    {
     "name": "stdout",
     "output_type": "stream",
     "text": [
      "<class 'dict'> {'points': [{'curveNumber': 0, 'x': 44, 'y': 292, 'z': 227, 'bbox': {'x0': 335.58, 'x1': 336.26, 'y0': 257.61, 'y1': 258.28999999999996}}]} [{'curveNumber': 0, 'x': 44, 'y': 292, 'z': 227, 'bbox': {'x0': 335.58, 'x1': 336.26, 'y0': 257.61, 'y1': 258.28999999999996}}]\n",
      "<class 'dict'> {'points': [{'curveNumber': 0, 'x': 37, 'y': 318, 'z': 228, 'bbox': {'x0': 330.78999999999996, 'x1': 331.48, 'y0': 275.38, 'y1': 276.07}}]} [{'curveNumber': 0, 'x': 37, 'y': 318, 'z': 228, 'bbox': {'x0': 330.78999999999996, 'x1': 331.48, 'y0': 275.38, 'y1': 276.07}}]\n",
      "<class 'dict'> {'points': [{'curveNumber': 0, 'x': 38, 'y': 415, 'z': 229, 'bbox': {'x0': 331.48, 'x1': 332.15999999999997, 'y0': 341.69, 'y1': 342.38}}]} [{'curveNumber': 0, 'x': 38, 'y': 415, 'z': 229, 'bbox': {'x0': 331.48, 'x1': 332.15999999999997, 'y0': 341.69, 'y1': 342.38}}]\n"
     ]
    },
    {
     "name": "stderr",
     "output_type": "stream",
     "text": [
      "127.0.0.1 - - [26/May/2022 16:48:40] \"POST /_dash-update-component HTTP/1.1\" 200 -\n",
      "127.0.0.1 - - [26/May/2022 16:48:40] \"POST /_dash-update-component HTTP/1.1\" 200 -\n"
     ]
    },
    {
     "name": "stdout",
     "output_type": "stream",
     "text": [
      "<class 'dict'> {'points': [{'curveNumber': 0, 'x': 306, 'y': 494, 'z': 0, 'bbox': {'x0': 514.6800000000001, 'x1': 515.36, 'y0': 395.7, 'y1': 396.38}}]} [{'curveNumber': 0, 'x': 306, 'y': 494, 'z': 0, 'bbox': {'x0': 514.6800000000001, 'x1': 515.36, 'y0': 395.7, 'y1': 396.38}}]\n",
      "<class 'dict'> {'points': [{'curveNumber': 0, 'x': 62, 'y': 326, 'z': 227, 'bbox': {'x0': 347.88, 'x1': 348.57, 'y0': 280.85, 'y1': 281.53999999999996}}]} [{'curveNumber': 0, 'x': 62, 'y': 326, 'z': 227, 'bbox': {'x0': 347.88, 'x1': 348.57, 'y0': 280.85, 'y1': 281.53999999999996}}]\n"
     ]
    }
   ],
   "source": [
    "import dash\n",
    "from dash import dcc\n",
    "import dash_html_components as html\n",
    "from dash.dependencies import Input, Output,State\n",
    "import plotly.graph_objs as go\n",
    "import pandas as pd\n",
    "import plotly.express as px\n",
    "import numpy as np\n",
    "import json\n",
    "import time\n",
    "import multiprocess\n",
    "from image_func import image_func\n",
    "width, height = 512, 512\n",
    "\n",
    "\n",
    "scale_default = 0.0078\n",
    "scale = scale_default\n",
    "GRAYSCALE = \"L\"\n",
    "max_iterations = 26\n",
    "escape_radius = 10\n",
    "move_x = -0.7435 / scale\n",
    "move_y = 0.1314 / scale\n",
    "\n",
    "from PIL import Image\n",
    "\n",
    "np.warnings.filterwarnings(\"ignore\")\n",
    "\n",
    "app = dash.Dash()\n",
    "\n",
    "app.layout = html.Div([\n",
    "    \n",
    "    html.Div([\n",
    "    \n",
    "    \n",
    "    html.Div([\n",
    "            html.Div(children=[dcc.Graph(id='graph')]),\n",
    "        \n",
    "            html.Div([\n",
    "                html.Div([\n",
    "                          html.H3('Escape_radius',\n",
    "                            style={'margin' : '0','color': 'black','display':'inline-block', 'float' : 'left'}),\n",
    "                          dcc.Input(id='escape_radius', type='number', debounce=True, min=2, max=1000,step=1, value = 10,\n",
    "                            style={'width' : '50px', 'margin-left' : '10px', 'margin-right' : '30px','display' : 'inline-block', 'float' : 'left'})\n",
    "                         ],style = {'display' : 'inline-block','float':'left'}),\n",
    "                html.Div([\n",
    "                          html.H3('Max_iterations ',\n",
    "                            style={'margin' : '0','color': 'black','display':'inline-block', 'float' : 'left'}),\n",
    "                          dcc.Input(id='max_iterations', type='number', debounce=True, min=2, max=1250,step=1, value = 26,\n",
    "                            style={'width' : '50px', 'margin-left' : '10px','display' : 'inline-block', 'float' : 'left'})\n",
    "                         ],style = {'display' : 'inline-block','float':'left'})\n",
    "            ], style = {'display' : 'flex', 'float':'none'}),\n",
    "        \n",
    "            html.Div([\n",
    "                html.Div([\n",
    "                          html.H3('x center ',\n",
    "                            style={'margin' : '0','color': 'black','display':'inline-block', 'float' : 'left'}),\n",
    "                          dcc.Input(id='move_x', type='text', value = -0.7435,\n",
    "                            style={'width' : '50px', 'margin-left' : '60px', 'margin-right' : '30px','display' : 'inline-block', 'float' : 'left'})         \n",
    "                         ],style = {'display' : 'inline-block','float':'left'}),           \n",
    "                html.Div([\n",
    "                          html.H3('y center ',\n",
    "                           style={'margin' : '0','color': 'black','display':'inline-block', 'float' : 'left'}),\n",
    "                          dcc.Input(id='move_y', type='text', value =0.1314,\n",
    "                            style={'width' : '50px', 'margin-left' : '70px','display' : 'inline-block', 'float' : 'left'})            \n",
    "                         ],style = {'display' : 'inline-block','float':'left'})       \n",
    "            ], style = {'display' : 'flex', 'float':'none'}),\n",
    "            html.Div([\n",
    "                html.Div([\n",
    "                          html.H3('scale ',\n",
    "                            style={'margin' : '0','color': 'black','display':'inline-block', 'float' : 'left'}),\n",
    "                          dcc.Input(id='scale', type='number', value =1,\n",
    "                            style={'width' : '50px', 'margin-left' : '87px', 'margin-right' : '30px','display' : 'inline-block', 'float' : 'left'})                \n",
    "                         ],style = {'display' : 'inline-block','float':'left'}),         \n",
    "                html.Pre(id = 'hover-data',style = {'display' : 'inline-block','float':'left'})\n",
    "            ], style = {'display' : 'flex', 'float': 'none'}),\n",
    "        \n",
    "            html.Div([\n",
    "            html.Button(id='submit-button-state', n_clicks=0, children='Submit',\n",
    "                    style={'textAlign': 'center','color': 'black','display':'inline-block', 'float' : 'left'})\n",
    "            ], style = {'display' : 'flex', 'float':'none'})\n",
    "            ],\n",
    "             \n",
    "        style={'textAlign': 'center','color': 'black', 'display':'inline-block', 'width' : '50%', 'float' : 'left'}),\n",
    "\n",
    "        \n",
    "    html.Div([\n",
    "            html.Div(children=[dcc.Graph(id='graph2')]),\n",
    "        \n",
    "            html.Div([\n",
    "                html.Div([\n",
    "                          html.H3('Escape_radius',\n",
    "                            style={'margin' : '0','color': 'black','display':'inline-block', 'float' : 'left'}),\n",
    "                          dcc.Input(id='escape_radius2', type='number', debounce=True, min=2, step=1, value = 10,\n",
    "                            style={'width' : '50px', 'margin-left' : '10px', 'margin-right' : '30px','display' : 'inline-block', 'float' : 'left'})\n",
    "                         ],style = {'display' : 'inline-block','float':'left'}),\n",
    "                html.Div([\n",
    "                          html.H3('Max_iterations ',\n",
    "                            style={'margin' : '0','color': 'black','display':'inline-block', 'float' : 'left'}),\n",
    "                          dcc.Input(id='max_iterations2', type='number', debounce=True, min=2, step=1, value = 26,\n",
    "                            style={'width' : '50px', 'margin-left' : '10px','display' : 'inline-block', 'float' : 'left'})\n",
    "                         ],style = {'display' : 'inline-block','float':'left'})\n",
    "            ], style = {'display' : 'flex', 'float':'none'}),\n",
    "        \n",
    "            html.Div([\n",
    "                html.Div([\n",
    "                          html.H3('x center ',\n",
    "                            style={'margin' : '0','color': 'black','display':'inline-block', 'float' : 'left'}),\n",
    "                          dcc.Input(id='move_x2', type='text', value = 0,\n",
    "                            style={'width' : '50px', 'margin-left' : '60px', 'margin-right' : '30px','display' : 'inline-block', 'float' : 'left'})         \n",
    "                         ],style = {'display' : 'inline-block','float':'left'}),           \n",
    "                html.Div([\n",
    "                          html.H3('y center ',\n",
    "                           style={'margin' : '0','color': 'black','display':'inline-block', 'float' : 'left'}),\n",
    "                          dcc.Input(id='move_y2', type='text', value =0,\n",
    "                            style={'width' : '50px', 'margin-left' : '70px','display' : 'inline-block', 'float' : 'left'})            \n",
    "                         ],style = {'display' : 'inline-block','float':'left'})       \n",
    "            ], style = {'display' : 'flex', 'float':'none'}),\n",
    "            html.Div([\n",
    "                html.Div([\n",
    "                          html.H3('scale ',\n",
    "                            style={'margin' : '0','color': 'black','display':'inline-block', 'float' : 'left'}),\n",
    "                          dcc.Input(id='scale2', type='number', value =1,\n",
    "                            style={'width' : '50px', 'margin-left' : '87px', 'margin-right' : '30px','display' : 'inline-block', 'float' : 'left'})                \n",
    "                         ],style = {'display' : 'inline-block','float':'left'})    \n",
    "                \n",
    "            ], style = {'display' : 'flex', 'float': 'none'})\n",
    "        \n",
    "            \n",
    "            ],\n",
    "             \n",
    "        style={'textAlign': 'center','color': 'black', 'display':'inline-block', 'width' : '50%', 'float' : 'left'}),\n",
    "\n",
    "], style={'textAlign': 'center','color': 'black', 'display':'inline-block', 'width' : '70%'}),\n",
    "    html.Div([\n",
    "            html.Div([\n",
    "                html.H6('julia set 아래 메뉴들은 미구현입니다',\n",
    "                    style={'color': 'black'}),\n",
    "                html.H3('-사용법- ',\n",
    "                    style={'color': 'black'}),                \n",
    "                html.H5('1. mandelbrot의 scale을 10정도로 입력해보고, submit을 눌러보세요 ',\n",
    "                    style={'color': 'black'}),\n",
    "                html.H5('2. 경계에서 명확하게 프랙탈이 보이지 않으면, Max_iterations을 50정도 입력해보고 submit을 눌러보세요 ',\n",
    "                    style={'color': 'black'}),\n",
    "                html.H5('3. x center, y center를 변경하면서 그림을 옮길 수 있어요',\n",
    "                    style={'color': 'black'}),        \n",
    "                html.H5('4. mandelbrot fractal 그래프를 클릭하면, c값이 정해집니다.',\n",
    "                    style={'color': 'black'}),    \n",
    "                html.H5('5. 동시에 우측에서는 c값을 기준으로 julia set이 그려져요. ',\n",
    "                    style={'color': 'black'}),\n",
    "                html.H3('-그래프메뉴-',\n",
    "                    style={'color': 'black'}),                \n",
    "                html.H5('1. 그래프에 마우스를 가져다 대면 상단에 여러 메뉴들이 보입니다. 확대, 축소, 이동, 원상복귀 등등',\n",
    "                    style={'color': 'black'}),\n",
    "                html.H5('2. 그래프를 드래그해도 확대가 되지만, 올바른 c값 및 julia set은 생성되지 않습니다.',\n",
    "                    style={'color': 'black'}),                \n",
    "            ],  style={'textAlign': 'left','color': 'black', 'display':'inline-block', 'width' : '70%'})\n",
    "    ])\n",
    "]\n",
    "    ,style={'textAlign': 'center'})\n",
    "@app.callback(Output('hover-data', 'children'),\n",
    "              Input('graph', 'hoverData'),\n",
    "              State('escape_radius', 'value'),\n",
    "              State('max_iterations', 'value'),\n",
    "              State('move_x', 'value'),\n",
    "              State('move_y', 'value'),\n",
    "              State('scale', 'value'))\n",
    "\n",
    "def dis_play_hover_data(hover_data,escape_radius, max_iterations,move_x,move_y,scale):\n",
    "    if hover_data == None:\n",
    "        return f'복소수 c : {0}+{0}i '\n",
    "    scale_default = 0.0078\n",
    "    scale = scale_default / scale    \n",
    "    raw = json.dumps(hover_data, indent=2)\n",
    "    x = hover_data[\"points\"][0][\"x\"]\n",
    "    y = hover_data[\"points\"][0][\"y\"]\n",
    "    move_x = float(move_x) / scale\n",
    "    move_y = float(move_y) / scale    \n",
    "    c = scale * complex((x +move_x) - width / 2, height / 2 - (y + move_y) )\n",
    "    \n",
    "    print(type(hover_data),hover_data, hover_data[\"points\"])\n",
    "    return f'복소수 c : {c.real:{\".4f\"}}+{c.imag:{\".4f\"}}i '\n",
    "\n",
    "########################################figure hover click###############\n",
    "\n",
    "@app.callback(Output('graph2', 'figure'),\n",
    "              Input('graph', 'clickData'),\n",
    "              State('escape_radius', 'value'),\n",
    "              State('max_iterations', 'value'),\n",
    "              State('move_x', 'value'),\n",
    "              State('move_y', 'value'),\n",
    "              State('scale', 'value'),\n",
    "              State('escape_radius2', 'value'),\n",
    "              State('max_iterations2', 'value'),\n",
    "              State('move_x2', 'value'),\n",
    "              State('move_y2', 'value'),\n",
    "              State('scale2', 'value'))\n",
    "def update_figure(clickData,escape_radius,max_iterations,move_x,move_y,scale,\n",
    "                 escape_radius2,max_iterations2,move_x2,move_y2,scale2):\n",
    "\n",
    "    \n",
    "\n",
    "    \n",
    "    if clickData is None:\n",
    "        scale_default = 0.0078\n",
    "        scale = scale_default / scale\n",
    "        GRAYSCALE = \"L\"\n",
    "        cx = 0\n",
    "        cy = 0\n",
    "        move_x = float(move_x) / scale\n",
    "        move_y = float(move_y) / scale\n",
    "\n",
    "        image = Image.new(mode=GRAYSCALE, size=(width, height))\n",
    "        c = complex(0,0)\n",
    "        \n",
    "        for y in range(height):\n",
    "            for x in range(width):\n",
    "                z = scale * complex((x) - width / 2, height / 2 - (y) )\n",
    "                instability = 1 - stability2(z,c,max_iterations, escape_radius)\n",
    "                image.putpixel((x, y), int(instability * 255))        \n",
    "\n",
    "\n",
    "        fig = px.imshow(image,color_continuous_scale=\"Rainbow\",range_color=[0,255],\n",
    "                       title=\"Julia Sets Fractal\")      \n",
    "        fig.update_traces(hovertemplate=\"x: %{x} <br> y: %{y}<extra></extra>\")\n",
    "        fig.update(layout_coloraxis_showscale=False)\n",
    "        fig.update_xaxes(visible=False)\n",
    "        fig.update_yaxes(visible=False)    \n",
    "        fig.update_layout(margin_b=50, margin_l = 0, margin_r=0, margin_t = 50)\n",
    "        return fig\n",
    "  \n",
    "    else:\n",
    " \n",
    "        scale_default = 0.0078\n",
    "        scale = scale_default / scale\n",
    "        scale2 = scale_default / scale2\n",
    "        GRAYSCALE = \"L\"\n",
    "        cx = clickData[\"points\"][0][\"x\"]\n",
    "        cy = clickData[\"points\"][0][\"y\"]\n",
    "        move_x_c = float(move_x) / scale\n",
    "        move_y_c = float(move_y) / scale\n",
    "        c = scale * complex((cx+move_x_c) - width / 2, height / 2 - (cy+move_y_c) )\n",
    "        image = Image.new(mode=GRAYSCALE, size=(width, height))\n",
    "\n",
    "        \n",
    "        for y in range(height):\n",
    "            for x in range(width):\n",
    "                z = scale2 * complex((x) - width / 2, height / 2 - (y) )\n",
    "                instability = 1 - stability2(z,c,max_iterations, escape_radius)\n",
    "                image.putpixel((x, y), int(instability * 255))        \n",
    "\n",
    "        fig = px.imshow(image,color_continuous_scale=\"Rainbow\",range_color=[0,255],\n",
    "                       title=\"Julia Sets Fractal\")    \n",
    "        fig.update_traces(hovertemplate=\"x: %{x} <br> y: %{y}<extra></extra>\")\n",
    "        fig.update(layout_coloraxis_showscale=False)\n",
    "        fig.update_xaxes(visible=False)\n",
    "        fig.update_yaxes(visible=False)\n",
    "        fig.update_layout(margin_b=50, margin_l = 0, margin_r=0, margin_t = 50)\n",
    "        return fig\n",
    "\n",
    "\n",
    "\n",
    "##########################################################################################\n",
    "@app.callback(Output('graph', 'figure'),\n",
    "              Input('submit-button-state', 'n_clicks'),\n",
    "              State('escape_radius', 'value'),\n",
    "              State('max_iterations', 'value'),\n",
    "              State('move_x', 'value'),\n",
    "              State('move_y', 'value'),\n",
    "              State('scale', 'value'))\n",
    "def update_figure(n_clicks,escape_radius,max_iterations,move_x,move_y,scale):\n",
    "    print(\"typeof movex \", type(move_x))\n",
    "    scale_default = 0.0078\n",
    "    scale = scale_default / scale\n",
    "    GRAYSCALE = \"L\"\n",
    "\n",
    "    move_x = float(move_x) / scale\n",
    "    move_y = float(move_y) / scale\n",
    "\n",
    "    \n",
    "\n",
    "    \n",
    "\n",
    "    image = Image.new(mode=GRAYSCALE, size=(width, height))\n",
    "    image1 = Image.new(mode=GRAYSCALE, size=(width, int(height/4)))\n",
    "    image2 = Image.new(mode=GRAYSCALE, size=(width, int(height/4)))\n",
    "    image3 = Image.new(mode=GRAYSCALE, size=(width, int(height/4)))\n",
    "    image4 = Image.new(mode=GRAYSCALE, size=(width, int(height/4)))\n",
    "\n",
    "    arg_list = [\n",
    "        [image1, 0, int(height*(1/4)), width, move_x, move_y, max_iterations, escape_radius,scale],\n",
    "        [image2, int(height*(1/4)),int(height*(2/4)), width, move_x, move_y, max_iterations, escape_radius,scale],\n",
    "        [image3, int(height*(2/4)),int(height*(3/4)), width, move_x, move_y, max_iterations, escape_radius,scale],\n",
    "        [image4, int(height*(3/4)),int(height*(4/4)), width, move_x, move_y, max_iterations, escape_radius,scale]\n",
    "    ]\n",
    "\n",
    "    start = time.time()\n",
    "    pool = multiprocess.Pool(processes = 4)\n",
    "    job=(pool.map(image_func, arg_list))\n",
    "    pool.close()\n",
    "    pool.join()\n",
    "    print(f'----{time.time()-start} seconds -----')\n",
    "\n",
    "    image_sum = Image.new(mode=GRAYSCALE, size=(width, height))\n",
    "    image_sum.paste(job[0], (0,0))\n",
    "    image_sum.paste(job[1], (0,128))\n",
    "    image_sum.paste(job[2], (0,256))\n",
    "    image_sum.paste(job[3], (0,384))\n",
    "    '''\n",
    "    image = Image.new(mode=GRAYSCALE, size=(width, height))\n",
    "    for y in range(height):\n",
    "        for x in range(width):\n",
    "            c = scale * complex((x +move_x) - width / 2, height / 2 - (y + move_y) )\n",
    "            instability = 1 - stability(c,max_iterations, escape_radius)\n",
    "            image.putpixel((x, y), int(instability * 255))\n",
    "    '''                \n",
    "    fig = px.imshow(image_sum,color_continuous_scale=\"RdGy\",range_color=[0,255],\n",
    "                   title=\"Mandelbrot Sets Fractal\")    \n",
    "      \n",
    "    ##fig.update_traces(hovertemplate=\"x: %{x / scale} <br> y: %{float(y)}<extra></extra>\")\n",
    "    fig.update_traces(hovertemplate=\"x: %{x} <br> y: %{y}<extra></extra>\")\n",
    "    fig.update(layout_coloraxis_showscale=False)\n",
    "    fig.update_xaxes(visible=False)\n",
    "    fig.update_yaxes(visible=False)    \n",
    "    fig.update_layout(margin_b=50, margin_l = 0, margin_r=0, margin_t = 50)\n",
    "    return fig\n",
    "\n",
    "\n",
    "if __name__ == '__main__':\n",
    "    app.run_server()"
   ]
  },
  {
   "cell_type": "code",
   "execution_count": null,
   "id": "83d9799b",
   "metadata": {},
   "outputs": [],
   "source": []
  }
 ],
 "metadata": {
  "kernelspec": {
   "display_name": "Python 3 (ipykernel)",
   "language": "python",
   "name": "python3"
  },
  "language_info": {
   "codemirror_mode": {
    "name": "ipython",
    "version": 3
   },
   "file_extension": ".py",
   "mimetype": "text/x-python",
   "name": "python",
   "nbconvert_exporter": "python",
   "pygments_lexer": "ipython3",
   "version": "3.9.7"
  }
 },
 "nbformat": 4,
 "nbformat_minor": 5
}
