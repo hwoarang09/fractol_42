{
 "cells": [
  {
   "cell_type": "code",
   "execution_count": null,
   "id": "78eaee20",
   "metadata": {},
   "outputs": [],
   "source": [
    "from dataclasses import dataclass\n",
    "\n",
    "\n",
    "@dataclass\n",
    "class MandelbrotSet:\n",
    "    max_iterations: int\n",
    "\n",
    "    def __contains__(self, c: complex) -> bool:\n",
    "        z = 0\n",
    "        for _ in range(self.max_iterations):\n",
    "            z = z**2 + c\n",
    "            if abs(z) > 2:\n",
    "                return False\n",
    "        return True"
   ]
  }
 ],
 "metadata": {
  "kernelspec": {
   "display_name": "Python 3 (ipykernel)",
   "language": "python",
   "name": "python3"
  },
  "language_info": {
   "codemirror_mode": {
    "name": "ipython",
    "version": 3
   },
   "file_extension": ".py",
   "mimetype": "text/x-python",
   "name": "python",
   "nbconvert_exporter": "python",
   "pygments_lexer": "ipython3",
   "version": "3.9.7"
  }
 },
 "nbformat": 4,
 "nbformat_minor": 5
}
