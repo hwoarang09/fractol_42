{
 "cells": [
  {
   "cell_type": "markdown",
   "id": "c677424e",
   "metadata": {},
   "source": [
    "## Low-Resolution Scatter Plot - Plotly-go"
   ]
  },
  {
   "cell_type": "code",
   "execution_count": 1,
   "id": "c1e9da22",
   "metadata": {},
   "outputs": [
    {
     "name": "stderr",
     "output_type": "stream",
     "text": [
      "C:\\Users\\hwoar\\AppData\\Local\\Temp/ipykernel_15084/303292400.py:9: UserWarning: \n",
      "The dash_core_components package is deprecated. Please replace\n",
      "`import dash_core_components as dcc` with `from dash import dcc`\n",
      "  import dash_core_components as dcc\n",
      "C:\\Users\\hwoar\\AppData\\Local\\Temp/ipykernel_15084/303292400.py:10: UserWarning: \n",
      "The dash_html_components package is deprecated. Please replace\n",
      "`import dash_html_components as html` with `from dash import html`\n",
      "  import dash_html_components as html\n"
     ]
    },
    {
     "data": {
      "text/plain": [
       "'scatter2.html'"
      ]
     },
     "execution_count": 1,
     "metadata": {},
     "output_type": "execute_result"
    }
   ],
   "source": [
    "import matplotlib.pyplot as plt\n",
    "import numpy as np\n",
    "   \n",
    "#######\n",
    "# Here we'll use the mpg.csv dataset to demonstrate\n",
    "# how multiple inputs can affect the same graph.\n",
    "######\n",
    "import dash\n",
    "import dash_core_components as dcc\n",
    "import dash_html_components as html\n",
    "from dash.dependencies import Input, Output\n",
    "import plotly.graph_objs as go\n",
    "import pandas as pd\n",
    "np.warnings.filterwarnings(\"ignore\")\n",
    "\n",
    "\n",
    "def complex_matrix(xmin, xmax, ymin, ymax, pixel_density):\n",
    "    re = np.linspace(xmin, xmax, int((xmax - xmin) * pixel_density))\n",
    "    im = np.linspace(ymin, ymax, int((ymax - ymin) * pixel_density))\n",
    "    return re[np.newaxis, :] + im[:, np.newaxis] * 1j\n",
    "\n",
    "\n",
    "def is_stable(c, num_iterations):\n",
    "    z = 0\n",
    "    for _ in range(num_iterations):\n",
    "        z = z**2 + c\n",
    "    return abs(z) <= 2\n",
    "\n",
    "\n",
    "def get_members(c, num_iterations):\n",
    "    mask = is_stable(c, num_iterations)\n",
    "    return c[mask]\n",
    "\n",
    "c = complex_matrix(-2, 0.5, -1.5, 1.5, pixel_density=21)\n",
    "#c = complex_matrix(-31, 2.5, -2.5, 2.5, pixel_density=21)\n",
    "members = get_members(c, num_iterations=16)\n",
    "\n",
    "import plotly.offline as pyo\n",
    "import plotly.graph_objs as go\n",
    "import numpy as np\n",
    "\n",
    "c = complex_matrix(-2, 0.5, -1.5, 1.5, pixel_density=221)\n",
    "#c = complex_matrix(-31, 2.5, -2.5, 2.5, pixel_density=21)\n",
    "members = get_members(c, num_iterations=16)\n",
    "\n",
    "data = [go.Scatter(\n",
    "    x = members.real, \n",
    "    y = members.imag,\n",
    "    mode = 'markers',\n",
    "    marker=dict(size=1,\n",
    "               color='rgb(51,204,153)',\n",
    "               symbol='diamond-open',\n",
    "               line = {'width' : 2})\n",
    ")]\n",
    "layout = go.Layout(title='Hello First Plot',\n",
    "                  xaxis={'title' : 'My X axis'},\n",
    "                  yaxis={'title' : 'My Y axis'},\n",
    "                  hovermode='closest')\n",
    "\n",
    "fig = go.Figure(data=data,layout=layout)\n",
    "pyo.plot(fig, filename='scatter2.html')"
   ]
  },
  {
   "cell_type": "markdown",
   "id": "c413b1f6",
   "metadata": {},
   "source": [
    "## Low-Resolution Scatter Plot - Plotly-Dash"
   ]
  },
  {
   "cell_type": "code",
   "execution_count": null,
   "id": "ec429f41",
   "metadata": {},
   "outputs": [],
   "source": [
    "\n",
    "app = dash.Dash()\n",
    "\n",
    "app.layout = html.Div([\n",
    "    dcc.Graph(id='graph'),\n",
    "    dcc.Input(id='num', type='number', debounce=True, min=2, step=1, value = 32)\n",
    "])\n",
    "\n",
    "@app.callback(Output('graph', 'figure'),\n",
    "              [Input('num', 'value')])\n",
    "def update_figure(num):\n",
    "    \n",
    "    print(\"num is \", num, \" type is \", type(num))\n",
    "    c = complex_matrix(-2, 0.5, -1.5, 1.5, pixel_density=num)\n",
    "    #c = complex_matrix(-31, 2.5, -2.5, 2.5, pixel_density=21)\n",
    "    members = get_members(c, num_iterations=16)\n",
    "    data = [go.Scatter(\n",
    "        x = members.real, \n",
    "        y = members.imag,\n",
    "        mode = 'markers',\n",
    "        marker=dict(size=1,\n",
    "                   color='rgb(51,204,153)',\n",
    "                   symbol='diamond-open',\n",
    "                   line = {'width' : 2})\n",
    "    )]\n",
    "    layout = go.Layout(title='Hello First Plot',\n",
    "                      xaxis={'title' : 'My X axis'},\n",
    "                      yaxis={'title' : 'My Y axis'},\n",
    "                       width=800, height=800,\n",
    "                      hovermode=False)\n",
    "\n",
    "    fig = go.Figure(data=data,layout=layout)\n",
    "    return fig\n",
    "\n",
    "if __name__ == '__main__':\n",
    "    app.run_server()"
   ]
  }
 ],
 "metadata": {
  "kernelspec": {
   "display_name": "Python 3 (ipykernel)",
   "language": "python",
   "name": "python3"
  },
  "language_info": {
   "codemirror_mode": {
    "name": "ipython",
    "version": 3
   },
   "file_extension": ".py",
   "mimetype": "text/x-python",
   "name": "python",
   "nbconvert_exporter": "python",
   "pygments_lexer": "ipython3",
   "version": "3.9.7"
  }
 },
 "nbformat": 4,
 "nbformat_minor": 5
}
